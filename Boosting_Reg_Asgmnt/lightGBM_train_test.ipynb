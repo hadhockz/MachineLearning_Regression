{
 "cells": [
  {
   "cell_type": "code",
   "execution_count": 1,
   "id": "a3ac2ec4",
   "metadata": {},
   "outputs": [
    {
     "name": "stdout",
     "output_type": "stream",
     "text": [
      "Requirement already satisfied: lightgbm==3.3.5 in /home/had/anaconda3/lib/python3.9/site-packages (3.3.5)\n",
      "Requirement already satisfied: scikit-learn!=0.22.0 in /home/had/anaconda3/lib/python3.9/site-packages (from lightgbm==3.3.5) (1.0.2)\n",
      "Requirement already satisfied: wheel in /home/had/anaconda3/lib/python3.9/site-packages (from lightgbm==3.3.5) (0.37.1)\n",
      "Requirement already satisfied: scipy in /home/had/anaconda3/lib/python3.9/site-packages (from lightgbm==3.3.5) (1.7.3)\n",
      "Requirement already satisfied: numpy in /home/had/anaconda3/lib/python3.9/site-packages (from lightgbm==3.3.5) (1.21.5)\n",
      "Requirement already satisfied: threadpoolctl>=2.0.0 in /home/had/anaconda3/lib/python3.9/site-packages (from scikit-learn!=0.22.0->lightgbm==3.3.5) (2.2.0)\n",
      "Requirement already satisfied: joblib>=0.11 in /home/had/anaconda3/lib/python3.9/site-packages (from scikit-learn!=0.22.0->lightgbm==3.3.5) (1.1.0)\n"
     ]
    }
   ],
   "source": [
    "!pip install lightgbm==3.3.5"
   ]
  },
  {
   "cell_type": "code",
   "execution_count": 2,
   "id": "37c8a8cf",
   "metadata": {},
   "outputs": [],
   "source": [
    "#importing libraries\n",
    "import numpy as np\n",
    "import pandas as pd\n",
    "import matplotlib.pyplot as plt\n",
    "import lightgbm as lgb"
   ]
  },
  {
   "cell_type": "code",
   "execution_count": 3,
   "id": "8823818c",
   "metadata": {},
   "outputs": [],
   "source": [
    "#dataset reading\n",
    "dts = pd.read_csv(\"insurance_pre.csv\")"
   ]
  },
  {
   "cell_type": "code",
   "execution_count": 4,
   "id": "54d82937",
   "metadata": {},
   "outputs": [
    {
     "data": {
      "text/html": [
       "<div>\n",
       "<style scoped>\n",
       "    .dataframe tbody tr th:only-of-type {\n",
       "        vertical-align: middle;\n",
       "    }\n",
       "\n",
       "    .dataframe tbody tr th {\n",
       "        vertical-align: top;\n",
       "    }\n",
       "\n",
       "    .dataframe thead th {\n",
       "        text-align: right;\n",
       "    }\n",
       "</style>\n",
       "<table border=\"1\" class=\"dataframe\">\n",
       "  <thead>\n",
       "    <tr style=\"text-align: right;\">\n",
       "      <th></th>\n",
       "      <th>age</th>\n",
       "      <th>sex</th>\n",
       "      <th>bmi</th>\n",
       "      <th>children</th>\n",
       "      <th>smoker</th>\n",
       "      <th>charges</th>\n",
       "    </tr>\n",
       "  </thead>\n",
       "  <tbody>\n",
       "    <tr>\n",
       "      <th>0</th>\n",
       "      <td>19</td>\n",
       "      <td>female</td>\n",
       "      <td>27.900</td>\n",
       "      <td>0</td>\n",
       "      <td>yes</td>\n",
       "      <td>16884.92400</td>\n",
       "    </tr>\n",
       "    <tr>\n",
       "      <th>1</th>\n",
       "      <td>18</td>\n",
       "      <td>male</td>\n",
       "      <td>33.770</td>\n",
       "      <td>1</td>\n",
       "      <td>no</td>\n",
       "      <td>1725.55230</td>\n",
       "    </tr>\n",
       "    <tr>\n",
       "      <th>2</th>\n",
       "      <td>28</td>\n",
       "      <td>male</td>\n",
       "      <td>33.000</td>\n",
       "      <td>3</td>\n",
       "      <td>no</td>\n",
       "      <td>4449.46200</td>\n",
       "    </tr>\n",
       "    <tr>\n",
       "      <th>3</th>\n",
       "      <td>33</td>\n",
       "      <td>male</td>\n",
       "      <td>22.705</td>\n",
       "      <td>0</td>\n",
       "      <td>no</td>\n",
       "      <td>21984.47061</td>\n",
       "    </tr>\n",
       "    <tr>\n",
       "      <th>4</th>\n",
       "      <td>32</td>\n",
       "      <td>male</td>\n",
       "      <td>28.880</td>\n",
       "      <td>0</td>\n",
       "      <td>no</td>\n",
       "      <td>3866.85520</td>\n",
       "    </tr>\n",
       "    <tr>\n",
       "      <th>...</th>\n",
       "      <td>...</td>\n",
       "      <td>...</td>\n",
       "      <td>...</td>\n",
       "      <td>...</td>\n",
       "      <td>...</td>\n",
       "      <td>...</td>\n",
       "    </tr>\n",
       "    <tr>\n",
       "      <th>1333</th>\n",
       "      <td>50</td>\n",
       "      <td>male</td>\n",
       "      <td>30.970</td>\n",
       "      <td>3</td>\n",
       "      <td>no</td>\n",
       "      <td>10600.54830</td>\n",
       "    </tr>\n",
       "    <tr>\n",
       "      <th>1334</th>\n",
       "      <td>18</td>\n",
       "      <td>female</td>\n",
       "      <td>31.920</td>\n",
       "      <td>0</td>\n",
       "      <td>no</td>\n",
       "      <td>2205.98080</td>\n",
       "    </tr>\n",
       "    <tr>\n",
       "      <th>1335</th>\n",
       "      <td>18</td>\n",
       "      <td>female</td>\n",
       "      <td>36.850</td>\n",
       "      <td>0</td>\n",
       "      <td>no</td>\n",
       "      <td>1629.83350</td>\n",
       "    </tr>\n",
       "    <tr>\n",
       "      <th>1336</th>\n",
       "      <td>21</td>\n",
       "      <td>female</td>\n",
       "      <td>25.800</td>\n",
       "      <td>0</td>\n",
       "      <td>no</td>\n",
       "      <td>2007.94500</td>\n",
       "    </tr>\n",
       "    <tr>\n",
       "      <th>1337</th>\n",
       "      <td>61</td>\n",
       "      <td>female</td>\n",
       "      <td>29.070</td>\n",
       "      <td>0</td>\n",
       "      <td>yes</td>\n",
       "      <td>29141.36030</td>\n",
       "    </tr>\n",
       "  </tbody>\n",
       "</table>\n",
       "<p>1338 rows × 6 columns</p>\n",
       "</div>"
      ],
      "text/plain": [
       "      age     sex     bmi  children smoker      charges\n",
       "0      19  female  27.900         0    yes  16884.92400\n",
       "1      18    male  33.770         1     no   1725.55230\n",
       "2      28    male  33.000         3     no   4449.46200\n",
       "3      33    male  22.705         0     no  21984.47061\n",
       "4      32    male  28.880         0     no   3866.85520\n",
       "...   ...     ...     ...       ...    ...          ...\n",
       "1333   50    male  30.970         3     no  10600.54830\n",
       "1334   18  female  31.920         0     no   2205.98080\n",
       "1335   18  female  36.850         0     no   1629.83350\n",
       "1336   21  female  25.800         0     no   2007.94500\n",
       "1337   61  female  29.070         0    yes  29141.36030\n",
       "\n",
       "[1338 rows x 6 columns]"
      ]
     },
     "execution_count": 4,
     "metadata": {},
     "output_type": "execute_result"
    }
   ],
   "source": [
    "dts"
   ]
  },
  {
   "cell_type": "code",
   "execution_count": 5,
   "id": "8c1d43ad",
   "metadata": {},
   "outputs": [
    {
     "data": {
      "text/plain": [
       "Index(['age', 'sex', 'bmi', 'children', 'smoker', 'charges'], dtype='object')"
      ]
     },
     "execution_count": 5,
     "metadata": {},
     "output_type": "execute_result"
    }
   ],
   "source": [
    "dts.columns"
   ]
  },
  {
   "cell_type": "code",
   "execution_count": 6,
   "id": "b41df488",
   "metadata": {},
   "outputs": [],
   "source": [
    "dts = pd.get_dummies(dts,drop_first=True)"
   ]
  },
  {
   "cell_type": "code",
   "execution_count": 7,
   "id": "fb29ae98",
   "metadata": {},
   "outputs": [
    {
     "data": {
      "text/html": [
       "<div>\n",
       "<style scoped>\n",
       "    .dataframe tbody tr th:only-of-type {\n",
       "        vertical-align: middle;\n",
       "    }\n",
       "\n",
       "    .dataframe tbody tr th {\n",
       "        vertical-align: top;\n",
       "    }\n",
       "\n",
       "    .dataframe thead th {\n",
       "        text-align: right;\n",
       "    }\n",
       "</style>\n",
       "<table border=\"1\" class=\"dataframe\">\n",
       "  <thead>\n",
       "    <tr style=\"text-align: right;\">\n",
       "      <th></th>\n",
       "      <th>age</th>\n",
       "      <th>bmi</th>\n",
       "      <th>children</th>\n",
       "      <th>charges</th>\n",
       "      <th>sex_male</th>\n",
       "      <th>smoker_yes</th>\n",
       "    </tr>\n",
       "  </thead>\n",
       "  <tbody>\n",
       "    <tr>\n",
       "      <th>0</th>\n",
       "      <td>19</td>\n",
       "      <td>27.900</td>\n",
       "      <td>0</td>\n",
       "      <td>16884.92400</td>\n",
       "      <td>0</td>\n",
       "      <td>1</td>\n",
       "    </tr>\n",
       "    <tr>\n",
       "      <th>1</th>\n",
       "      <td>18</td>\n",
       "      <td>33.770</td>\n",
       "      <td>1</td>\n",
       "      <td>1725.55230</td>\n",
       "      <td>1</td>\n",
       "      <td>0</td>\n",
       "    </tr>\n",
       "    <tr>\n",
       "      <th>2</th>\n",
       "      <td>28</td>\n",
       "      <td>33.000</td>\n",
       "      <td>3</td>\n",
       "      <td>4449.46200</td>\n",
       "      <td>1</td>\n",
       "      <td>0</td>\n",
       "    </tr>\n",
       "    <tr>\n",
       "      <th>3</th>\n",
       "      <td>33</td>\n",
       "      <td>22.705</td>\n",
       "      <td>0</td>\n",
       "      <td>21984.47061</td>\n",
       "      <td>1</td>\n",
       "      <td>0</td>\n",
       "    </tr>\n",
       "    <tr>\n",
       "      <th>4</th>\n",
       "      <td>32</td>\n",
       "      <td>28.880</td>\n",
       "      <td>0</td>\n",
       "      <td>3866.85520</td>\n",
       "      <td>1</td>\n",
       "      <td>0</td>\n",
       "    </tr>\n",
       "    <tr>\n",
       "      <th>...</th>\n",
       "      <td>...</td>\n",
       "      <td>...</td>\n",
       "      <td>...</td>\n",
       "      <td>...</td>\n",
       "      <td>...</td>\n",
       "      <td>...</td>\n",
       "    </tr>\n",
       "    <tr>\n",
       "      <th>1333</th>\n",
       "      <td>50</td>\n",
       "      <td>30.970</td>\n",
       "      <td>3</td>\n",
       "      <td>10600.54830</td>\n",
       "      <td>1</td>\n",
       "      <td>0</td>\n",
       "    </tr>\n",
       "    <tr>\n",
       "      <th>1334</th>\n",
       "      <td>18</td>\n",
       "      <td>31.920</td>\n",
       "      <td>0</td>\n",
       "      <td>2205.98080</td>\n",
       "      <td>0</td>\n",
       "      <td>0</td>\n",
       "    </tr>\n",
       "    <tr>\n",
       "      <th>1335</th>\n",
       "      <td>18</td>\n",
       "      <td>36.850</td>\n",
       "      <td>0</td>\n",
       "      <td>1629.83350</td>\n",
       "      <td>0</td>\n",
       "      <td>0</td>\n",
       "    </tr>\n",
       "    <tr>\n",
       "      <th>1336</th>\n",
       "      <td>21</td>\n",
       "      <td>25.800</td>\n",
       "      <td>0</td>\n",
       "      <td>2007.94500</td>\n",
       "      <td>0</td>\n",
       "      <td>0</td>\n",
       "    </tr>\n",
       "    <tr>\n",
       "      <th>1337</th>\n",
       "      <td>61</td>\n",
       "      <td>29.070</td>\n",
       "      <td>0</td>\n",
       "      <td>29141.36030</td>\n",
       "      <td>0</td>\n",
       "      <td>1</td>\n",
       "    </tr>\n",
       "  </tbody>\n",
       "</table>\n",
       "<p>1338 rows × 6 columns</p>\n",
       "</div>"
      ],
      "text/plain": [
       "      age     bmi  children      charges  sex_male  smoker_yes\n",
       "0      19  27.900         0  16884.92400         0           1\n",
       "1      18  33.770         1   1725.55230         1           0\n",
       "2      28  33.000         3   4449.46200         1           0\n",
       "3      33  22.705         0  21984.47061         1           0\n",
       "4      32  28.880         0   3866.85520         1           0\n",
       "...   ...     ...       ...          ...       ...         ...\n",
       "1333   50  30.970         3  10600.54830         1           0\n",
       "1334   18  31.920         0   2205.98080         0           0\n",
       "1335   18  36.850         0   1629.83350         0           0\n",
       "1336   21  25.800         0   2007.94500         0           0\n",
       "1337   61  29.070         0  29141.36030         0           1\n",
       "\n",
       "[1338 rows x 6 columns]"
      ]
     },
     "execution_count": 7,
     "metadata": {},
     "output_type": "execute_result"
    }
   ],
   "source": [
    "dts"
   ]
  },
  {
   "cell_type": "code",
   "execution_count": 8,
   "id": "5e7f6887",
   "metadata": {},
   "outputs": [],
   "source": [
    "#columns rename-ing\n",
    "dts.rename(columns={\"sex_male\":\"sex\",\"smoker_yes\":\"smoker\"},inplace=True)"
   ]
  },
  {
   "cell_type": "code",
   "execution_count": 9,
   "id": "875e3196",
   "metadata": {},
   "outputs": [
    {
     "data": {
      "text/html": [
       "<div>\n",
       "<style scoped>\n",
       "    .dataframe tbody tr th:only-of-type {\n",
       "        vertical-align: middle;\n",
       "    }\n",
       "\n",
       "    .dataframe tbody tr th {\n",
       "        vertical-align: top;\n",
       "    }\n",
       "\n",
       "    .dataframe thead th {\n",
       "        text-align: right;\n",
       "    }\n",
       "</style>\n",
       "<table border=\"1\" class=\"dataframe\">\n",
       "  <thead>\n",
       "    <tr style=\"text-align: right;\">\n",
       "      <th></th>\n",
       "      <th>age</th>\n",
       "      <th>bmi</th>\n",
       "      <th>children</th>\n",
       "      <th>charges</th>\n",
       "      <th>sex</th>\n",
       "      <th>smoker</th>\n",
       "    </tr>\n",
       "  </thead>\n",
       "  <tbody>\n",
       "    <tr>\n",
       "      <th>0</th>\n",
       "      <td>19</td>\n",
       "      <td>27.900</td>\n",
       "      <td>0</td>\n",
       "      <td>16884.92400</td>\n",
       "      <td>0</td>\n",
       "      <td>1</td>\n",
       "    </tr>\n",
       "    <tr>\n",
       "      <th>1</th>\n",
       "      <td>18</td>\n",
       "      <td>33.770</td>\n",
       "      <td>1</td>\n",
       "      <td>1725.55230</td>\n",
       "      <td>1</td>\n",
       "      <td>0</td>\n",
       "    </tr>\n",
       "    <tr>\n",
       "      <th>2</th>\n",
       "      <td>28</td>\n",
       "      <td>33.000</td>\n",
       "      <td>3</td>\n",
       "      <td>4449.46200</td>\n",
       "      <td>1</td>\n",
       "      <td>0</td>\n",
       "    </tr>\n",
       "    <tr>\n",
       "      <th>3</th>\n",
       "      <td>33</td>\n",
       "      <td>22.705</td>\n",
       "      <td>0</td>\n",
       "      <td>21984.47061</td>\n",
       "      <td>1</td>\n",
       "      <td>0</td>\n",
       "    </tr>\n",
       "    <tr>\n",
       "      <th>4</th>\n",
       "      <td>32</td>\n",
       "      <td>28.880</td>\n",
       "      <td>0</td>\n",
       "      <td>3866.85520</td>\n",
       "      <td>1</td>\n",
       "      <td>0</td>\n",
       "    </tr>\n",
       "    <tr>\n",
       "      <th>...</th>\n",
       "      <td>...</td>\n",
       "      <td>...</td>\n",
       "      <td>...</td>\n",
       "      <td>...</td>\n",
       "      <td>...</td>\n",
       "      <td>...</td>\n",
       "    </tr>\n",
       "    <tr>\n",
       "      <th>1333</th>\n",
       "      <td>50</td>\n",
       "      <td>30.970</td>\n",
       "      <td>3</td>\n",
       "      <td>10600.54830</td>\n",
       "      <td>1</td>\n",
       "      <td>0</td>\n",
       "    </tr>\n",
       "    <tr>\n",
       "      <th>1334</th>\n",
       "      <td>18</td>\n",
       "      <td>31.920</td>\n",
       "      <td>0</td>\n",
       "      <td>2205.98080</td>\n",
       "      <td>0</td>\n",
       "      <td>0</td>\n",
       "    </tr>\n",
       "    <tr>\n",
       "      <th>1335</th>\n",
       "      <td>18</td>\n",
       "      <td>36.850</td>\n",
       "      <td>0</td>\n",
       "      <td>1629.83350</td>\n",
       "      <td>0</td>\n",
       "      <td>0</td>\n",
       "    </tr>\n",
       "    <tr>\n",
       "      <th>1336</th>\n",
       "      <td>21</td>\n",
       "      <td>25.800</td>\n",
       "      <td>0</td>\n",
       "      <td>2007.94500</td>\n",
       "      <td>0</td>\n",
       "      <td>0</td>\n",
       "    </tr>\n",
       "    <tr>\n",
       "      <th>1337</th>\n",
       "      <td>61</td>\n",
       "      <td>29.070</td>\n",
       "      <td>0</td>\n",
       "      <td>29141.36030</td>\n",
       "      <td>0</td>\n",
       "      <td>1</td>\n",
       "    </tr>\n",
       "  </tbody>\n",
       "</table>\n",
       "<p>1338 rows × 6 columns</p>\n",
       "</div>"
      ],
      "text/plain": [
       "      age     bmi  children      charges  sex  smoker\n",
       "0      19  27.900         0  16884.92400    0       1\n",
       "1      18  33.770         1   1725.55230    1       0\n",
       "2      28  33.000         3   4449.46200    1       0\n",
       "3      33  22.705         0  21984.47061    1       0\n",
       "4      32  28.880         0   3866.85520    1       0\n",
       "...   ...     ...       ...          ...  ...     ...\n",
       "1333   50  30.970         3  10600.54830    1       0\n",
       "1334   18  31.920         0   2205.98080    0       0\n",
       "1335   18  36.850         0   1629.83350    0       0\n",
       "1336   21  25.800         0   2007.94500    0       0\n",
       "1337   61  29.070         0  29141.36030    0       1\n",
       "\n",
       "[1338 rows x 6 columns]"
      ]
     },
     "execution_count": 9,
     "metadata": {},
     "output_type": "execute_result"
    }
   ],
   "source": [
    "dts"
   ]
  },
  {
   "cell_type": "code",
   "execution_count": 10,
   "id": "3450bd52",
   "metadata": {},
   "outputs": [],
   "source": [
    "#separate the input and output values\n",
    "feature = dts[[\"age\",\"bmi\",\"children\",\"sex\",\"smoker\"]]\n",
    "target = dts[[\"charges\"]]"
   ]
  },
  {
   "cell_type": "code",
   "execution_count": 11,
   "id": "570cf977",
   "metadata": {},
   "outputs": [
    {
     "data": {
      "text/plain": [
       "(      age     bmi  children  sex  smoker\n",
       " 0      19  27.900         0    0       1\n",
       " 1      18  33.770         1    1       0\n",
       " 2      28  33.000         3    1       0\n",
       " 3      33  22.705         0    1       0\n",
       " 4      32  28.880         0    1       0\n",
       " ...   ...     ...       ...  ...     ...\n",
       " 1333   50  30.970         3    1       0\n",
       " 1334   18  31.920         0    0       0\n",
       " 1335   18  36.850         0    0       0\n",
       " 1336   21  25.800         0    0       0\n",
       " 1337   61  29.070         0    0       1\n",
       " \n",
       " [1338 rows x 5 columns],\n",
       "           charges\n",
       " 0     16884.92400\n",
       " 1      1725.55230\n",
       " 2      4449.46200\n",
       " 3     21984.47061\n",
       " 4      3866.85520\n",
       " ...           ...\n",
       " 1333  10600.54830\n",
       " 1334   2205.98080\n",
       " 1335   1629.83350\n",
       " 1336   2007.94500\n",
       " 1337  29141.36030\n",
       " \n",
       " [1338 rows x 1 columns])"
      ]
     },
     "execution_count": 11,
     "metadata": {},
     "output_type": "execute_result"
    }
   ],
   "source": [
    "feature,target"
   ]
  },
  {
   "cell_type": "code",
   "execution_count": 12,
   "id": "6077f5b0",
   "metadata": {},
   "outputs": [],
   "source": [
    "#splitting the train & test sets.\n",
    "from sklearn.model_selection import train_test_split\n",
    "X_train, X_test, Y_train,Y_test = train_test_split(feature,target,test_size=0.33,random_state=0)"
   ]
  },
  {
   "cell_type": "code",
   "execution_count": 13,
   "id": "0d359c2a",
   "metadata": {},
   "outputs": [
    {
     "data": {
      "text/plain": [
       "(      age     bmi  children  sex  smoker\n",
       " 1271   25  34.485         0    0       0\n",
       " 1313   19  34.700         2    0       1\n",
       " 2      28  33.000         3    1       0\n",
       " 405    52  38.380         2    0       0\n",
       " 482    18  31.350         0    0       0\n",
       " ...   ...     ...       ...  ...     ...\n",
       " 763    27  26.030         0    1       0\n",
       " 835    42  35.970         2    1       0\n",
       " 1216   40  25.080         0    1       0\n",
       " 559    19  35.530         0    1       0\n",
       " 684    33  18.500         1    0       0\n",
       " \n",
       " [896 rows x 5 columns],\n",
       "       age     bmi  children  sex  smoker\n",
       " 578    52  30.200         1    1       0\n",
       " 610    47  29.370         1    0       0\n",
       " 569    48  40.565         2    1       1\n",
       " 1034   61  38.380         0    1       0\n",
       " 198    51  18.050         0    0       0\n",
       " ...   ...     ...       ...  ...     ...\n",
       " 117    29  27.940         1    0       1\n",
       " 520    50  27.360         0    0       0\n",
       " 422    40  32.775         1    1       1\n",
       " 294    25  26.800         3    1       0\n",
       " 261    20  26.840         1    0       1\n",
       " \n",
       " [442 rows x 5 columns])"
      ]
     },
     "execution_count": 13,
     "metadata": {},
     "output_type": "execute_result"
    }
   ],
   "source": [
    "X_train, X_test"
   ]
  },
  {
   "cell_type": "code",
   "execution_count": 14,
   "id": "609409e2",
   "metadata": {},
   "outputs": [
    {
     "data": {
      "text/plain": [
       "(          charges\n",
       " 1271   3021.80915\n",
       " 1313  36397.57600\n",
       " 2      4449.46200\n",
       " 405   11396.90020\n",
       " 482    1622.18850\n",
       " ...           ...\n",
       " 763    3070.80870\n",
       " 835    7160.33030\n",
       " 1216   5415.66120\n",
       " 559    1646.42970\n",
       " 684    4766.02200\n",
       " \n",
       " [896 rows x 1 columns],\n",
       "           charges\n",
       " 578    9724.53000\n",
       " 610    8547.69130\n",
       " 569   45702.02235\n",
       " 1034  12950.07120\n",
       " 198    9644.25250\n",
       " ...           ...\n",
       " 117   19107.77960\n",
       " 520   25656.57526\n",
       " 422   39125.33225\n",
       " 294    3906.12700\n",
       " 261   17085.26760\n",
       " \n",
       " [442 rows x 1 columns])"
      ]
     },
     "execution_count": 14,
     "metadata": {},
     "output_type": "execute_result"
    }
   ],
   "source": [
    "Y_train, Y_test"
   ]
  },
  {
   "cell_type": "code",
   "execution_count": 15,
   "id": "1dbad79b",
   "metadata": {},
   "outputs": [],
   "source": [
    "#Standardisation procedure to maintain least different between inputs.\n",
    "from sklearn.preprocessing import StandardScaler\n",
    "sc=StandardScaler()\n",
    "X_train=sc.fit_transform(X_train)\n",
    "X_test=sc.transform(X_test)"
   ]
  },
  {
   "cell_type": "code",
   "execution_count": 16,
   "id": "50b4fa96",
   "metadata": {},
   "outputs": [
    {
     "data": {
      "text/plain": [
       "array([[-1.03606235,  0.6150522 , -0.91008919, -0.98669564, -0.4996512 ],\n",
       "       [-1.46484381,  0.64987934,  0.7540739 , -0.98669564,  2.00139616],\n",
       "       [-0.82167162,  0.37450199,  1.58615545,  1.01348375, -0.4996512 ],\n",
       "       ...,\n",
       "       [ 0.03589131, -0.90843249, -0.91008919,  1.01348375, -0.4996512 ],\n",
       "       [-1.46484381,  0.78432828, -0.91008919,  1.01348375, -0.4996512 ],\n",
       "       [-0.46435373, -1.97430482, -0.07800765, -0.98669564, -0.4996512 ]])"
      ]
     },
     "execution_count": 16,
     "metadata": {},
     "output_type": "execute_result"
    }
   ],
   "source": [
    "X_train"
   ]
  },
  {
   "cell_type": "code",
   "execution_count": 17,
   "id": "7401aaa0",
   "metadata": {
    "scrolled": true
   },
   "outputs": [
    {
     "data": {
      "text/plain": [
       "array([[ 0.89345423, -0.07906071, -0.07800765,  1.01348375, -0.4996512 ],\n",
       "       [ 0.53613634, -0.21350965, -0.07800765, -0.98669564, -0.4996512 ],\n",
       "       [ 0.60759992,  1.59993119,  0.7540739 ,  1.01348375,  2.00139616],\n",
       "       ...,\n",
       "       [ 0.03589131,  0.33805498, -0.07800765,  1.01348375,  2.00139616],\n",
       "       [-1.03606235, -0.62981541,  1.58615545,  1.01348375, -0.4996512 ],\n",
       "       [-1.39338023, -0.62333594, -0.07800765, -0.98669564,  2.00139616]])"
      ]
     },
     "execution_count": 17,
     "metadata": {},
     "output_type": "execute_result"
    }
   ],
   "source": [
    "X_test"
   ]
  },
  {
   "cell_type": "code",
   "execution_count": 18,
   "id": "95d6f72d",
   "metadata": {},
   "outputs": [
    {
     "name": "stdout",
     "output_type": "stream",
     "text": [
      "[LightGBM] [Warning] feature_fraction is set=0.9, colsample_bytree=1.0 will be ignored. Current value: feature_fraction=0.9\n"
     ]
    },
    {
     "name": "stderr",
     "output_type": "stream",
     "text": [
      "/home/had/anaconda3/lib/python3.9/site-packages/sklearn/utils/validation.py:993: DataConversionWarning: A column-vector y was passed when a 1d array was expected. Please change the shape of y to (n_samples, ), for example using ravel().\n",
      "  y = column_or_1d(y, warn=True)\n"
     ]
    }
   ],
   "source": [
    "#Creating & training the model\n",
    "from lightgbm import LGBMRegressor\n",
    "model1_create = LGBMRegressor(objective = \"regression\", boosting_type = \"gbdt\",num_leaves = 31,max_depth = 3,n_estimators=110,learning_rate = 0.05,feature_fraction = 0.9)\n",
    "model1_create = model1_create.fit(X_train, Y_train)"
   ]
  },
  {
   "cell_type": "code",
   "execution_count": 19,
   "id": "0b8cba9a",
   "metadata": {},
   "outputs": [],
   "source": [
    "Y_pred1 = model1_create.predict(X_test)"
   ]
  },
  {
   "cell_type": "code",
   "execution_count": 20,
   "id": "f33a6d36",
   "metadata": {},
   "outputs": [
    {
     "data": {
      "text/plain": [
       "array([13054.93783965, 10507.80522485, 46020.71009528, 14352.9395881 ,\n",
       "        9774.2568443 ,  4662.4522464 ,  2735.31171196, 12163.691754  ,\n",
       "        7470.61834653,  6820.29750827,  6673.75501136, 12018.1203353 ,\n",
       "        9929.62536957,  6178.33640181, 19923.4796009 , 12191.62345205,\n",
       "       14899.84342778,  5491.22123383,  7340.29827944, 34301.6379214 ,\n",
       "       24502.42462892, 14277.50426714, 12177.10298542, 26471.16809889,\n",
       "        3585.43991161,  6434.97780415,  4455.01478593,  8121.8769662 ,\n",
       "        5016.68602314, 10216.32379074,  7980.70792812, 48632.32522574,\n",
       "       14643.34760921, 11855.72546094, 17105.08213524,  5235.8269401 ,\n",
       "       10821.57976743, 37077.95873006, 39048.07620907,  3611.86610082,\n",
       "        5381.45676275,  5320.00315659, 20382.21198973, 47451.4029436 ,\n",
       "       37118.68982859,  4888.85096826, 12191.62345205,  7590.45718683,\n",
       "        5603.46589453, 12574.03397505,  4634.88943553,  4469.06532437,\n",
       "       26482.01706988, 46760.13818429, 11844.91340398,  5330.36082116,\n",
       "        4519.91816963, 10152.15003236, 10792.19138907, 16850.87591471,\n",
       "        2803.07776811, 45543.94645666, 17777.9292743 , 12212.83008761,\n",
       "       12343.91514678, 10447.91656587, 32056.98664709, 39031.66821053,\n",
       "        3974.56039282,  9300.84154642, 15221.34049739, 12856.97745332,\n",
       "       18049.96686519, 14525.71818656, 14696.2214216 , 15097.11518853,\n",
       "        9078.43928546, 10163.11146138, 18968.83441486, 47304.57117538,\n",
       "       11875.58819511, 44488.49473448,  3299.16084644, 10123.93557688,\n",
       "       41578.63421562, 19235.83344197,  5515.41182529,  4519.91816963,\n",
       "       15747.3190234 , 40561.07408745,  6771.15917465, 12027.60620417,\n",
       "        4544.10876109, 10195.11715518,  6082.59458036,  6244.74463839,\n",
       "       44374.21664478, 39028.63917804,  6836.70550681, 11538.02120372,\n",
       "        4608.46324633,  6862.24947957,  6836.70550681, 40834.94687666,\n",
       "       25846.54290571,  4455.01478593, 11396.33834102,  5273.4415742 ,\n",
       "       12000.34923464, 44039.78478107, 13441.76046072,  5913.90393679,\n",
       "       10507.80522485, 34177.90944196, 48534.12902599,  7840.35127718,\n",
       "        3061.45137406, 10152.15003236, 15391.50861395,  9951.20610027,\n",
       "       41596.53053546, 11311.78471904, 13851.60846082,  7498.88073047,\n",
       "       10379.46801022,  5938.96119953, 25614.04279286, 24477.58670177,\n",
       "       48294.95195375,  3024.24187649, 10497.75995705,  4556.74297581,\n",
       "        6878.65747812,  9846.46741521, 26236.82174688, 39013.77189069,\n",
       "       22985.01634274, 11919.52894477, 25047.54953679,  5951.56463326,\n",
       "        3325.58703565, 12362.71238852, 11893.90263361, 12000.34923464,\n",
       "        6828.47888396, 14525.71818656, 15486.99405404,  6230.51142171,\n",
       "        2089.49243672, 12647.85522762,  7238.44834005, 39818.34661247,\n",
       "       10819.0689369 ,  4407.91743098,  3764.06978774,  8190.22337296,\n",
       "        4270.46391064,  3884.57738312, 12191.62345205, 11305.05465546,\n",
       "        6753.86357804, 14058.155264  , 14837.7964073 , 10567.18364703,\n",
       "        4599.28132265,  7407.44519626, 15959.13848911,  6836.70550681,\n",
       "        6579.76536238,  2792.76672354,  6753.86357804,  7245.0534763 ,\n",
       "       10179.51945993,  4608.46324633,  6781.12054757,  7318.90011956,\n",
       "        5957.62404878,  7128.64419159, 27393.11091412,  2700.52338335,\n",
       "       14437.85001938,  7454.21034799, 12000.34923464,  5190.59964543,\n",
       "        6518.20964299, 26827.92535817,  3299.16084644,  3676.3916175 ,\n",
       "       14124.38178907, 11305.05465546, 41961.47969406,  6166.02403101,\n",
       "        6621.90192706, 24115.32958929,  4519.91816963,  4363.71515607,\n",
       "        7481.46731752,  7405.07201438,  6749.00098007,  6114.4245713 ,\n",
       "       12883.74311643, 44362.04373701, 14277.50426714, 18443.99300611,\n",
       "        6893.62475377, 43350.70712322,  6049.41150663, 12160.69498688,\n",
       "        7549.69578808,  2617.84957974, 10632.56626439, 14257.62576289,\n",
       "        6579.94995575,  4634.88943553,  7741.66280875,  4049.0342869 ,\n",
       "        7805.63907052,  6381.64527098, 16540.92947708,  6673.75501136,\n",
       "        8154.95176477,  7766.53002461, 10160.74852451,  4289.64179847,\n",
       "       12016.75723318, 14510.10363539, 14961.83768538, 12036.98657719,\n",
       "        5954.75049502,  4254.80047916,  3436.61436679,  9844.79331748,\n",
       "       14162.09655732,  5946.99398964,  5889.3976968 ,  8105.46896766,\n",
       "       11098.81690358, 35350.19141876,  6851.891815  , 13967.79512576,\n",
       "        6458.79344084, 36117.48685818,  8056.33063404,  9557.16021303,\n",
       "       10190.36843091, 12867.33511789,  4233.5641573 ,  9929.62536957,\n",
       "        3016.06119938,  7233.547676  , 20685.93735277, 45560.3544552 ,\n",
       "        6166.02403101,  5515.41182529,  2912.4435386 ,  2753.17790913,\n",
       "       10096.67860735,  3129.74550725,  6792.32924346,  6256.73309175,\n",
       "        8674.60856292, 26244.17013995, 44039.78478107, 18152.96659571,\n",
       "        7845.21721273, 11538.02120372, 43035.30865102, 10287.29547424,\n",
       "       39271.97329358,  3585.43991161, 36757.57230198,  6820.29750827,\n",
       "       12883.74311643,  6525.81489295, 40834.94687666,  6878.65747812,\n",
       "       12000.34923464, 11017.43311369,  4270.46391064, 16813.74366145,\n",
       "       12466.59987384,  6082.59458036, 13909.845411  ,  3435.78358646,\n",
       "        6717.62570587,  6171.72717894,  9317.24954496, 23237.64820627,\n",
       "        4644.05738267,  2700.52338335,  3100.96294052, 47400.05661547,\n",
       "       10367.44857392,  6244.74463839, 14277.50426714, 12883.74311643,\n",
       "       34984.04732832,  8231.77373778,  6862.24947957, 10327.38846285,\n",
       "        3299.16084644,  4862.42477906, 17153.2375601 , 17521.67469132,\n",
       "       14257.62576289,  4254.80047916,  5574.0631626 , 10657.80429198,\n",
       "       12160.69498688, 16069.33503992, 21676.09771684,  7421.48633005,\n",
       "       16466.41048771,  3325.58703565,  7072.70077574,  6082.59458036,\n",
       "       10381.2513855 ,  3683.63540113,  9301.04298021, 45929.51094607,\n",
       "        5175.13003343,  6244.74463839,  2319.90948737, 10301.91756259,\n",
       "        5352.51901574, 12053.25999728, 45882.61341114, 18584.66440807,\n",
       "       10632.56626439, 43873.75429696, 14277.50426714,  6893.62475377,\n",
       "       10846.32590643,  6027.10340524, 27010.56779994,  6103.57560032,\n",
       "       15096.62313865,  3733.65929199, 16603.79963168,  4040.79887356,\n",
       "       25108.26060937,  7247.03601016,  4049.0342869 , 39698.67483461,\n",
       "        6836.70550681,  5842.24702784, 28535.09907573,  3299.16084644,\n",
       "       10604.59196263,  4831.6824918 , 12360.32314532,  4676.31885531,\n",
       "        7245.9690871 ,  6893.62475377, 44374.21664478, 10332.56520274,\n",
       "       36459.09762904, 38056.11800142,  6851.891815  ,  9646.33901307,\n",
       "        2906.63217208,  5352.77539711,  4888.85096826, 10487.94249068,\n",
       "       44565.9474366 , 11466.18847522,  2961.20453513, 14131.55034399,\n",
       "        3274.36928095,  9766.02990555,  6187.75181681,  4391.88467314,\n",
       "        5377.30916528, 37236.10236663,  5954.75049502,  2311.96924802,\n",
       "       42282.0366209 , 12867.33511789, 42101.7567126 , 11466.18847522,\n",
       "        6228.33663985,  3252.0760772 ,  2820.67506629, 12229.23808615,\n",
       "        7213.6782021 ,  3435.78358646, 13044.08886867,  7433.00371243,\n",
       "        7499.81379332,  6024.85499294,  4617.64440164, 42696.069013  ,\n",
       "        3299.16084644, 10277.30248424,  3879.62525764,  7954.22581667,\n",
       "       11583.98545552,  6157.04011165, 16553.94828723, 12441.12672208,\n",
       "       16714.48110618, 15342.5605882 ,  3015.99794258,  7164.79306933,\n",
       "       14626.07845899,  9225.43080423,  7805.63907052,  3241.28692278,\n",
       "       34094.13908035, 14563.47672029,  7806.43654368, 14352.9395881 ,\n",
       "       10583.42793077, 14402.47589027, 47487.60845781,  5148.70384422,\n",
       "       10450.36332379,  3299.16084644, 16387.03285373,  3168.8656502 ,\n",
       "        6673.75501136,  2792.76672354, 11713.53844667,  5937.97080665,\n",
       "       10592.7802027 , 41977.8876926 ,  6099.0025789 , 34685.11803708,\n",
       "       18932.62535061, 11538.02120372,  9728.41527145, 38674.54468014,\n",
       "       10301.91756259,  5016.68602314, 10023.1910831 , 22151.38552511,\n",
       "       38739.89910147, 19728.54052457, 10938.26287575, 39013.77189069,\n",
       "        6434.61082477, 18084.7551938 ])"
      ]
     },
     "execution_count": 20,
     "metadata": {},
     "output_type": "execute_result"
    }
   ],
   "source": [
    "Y_pred1"
   ]
  },
  {
   "cell_type": "code",
   "execution_count": 21,
   "id": "78a63c9f",
   "metadata": {},
   "outputs": [],
   "source": [
    "from sklearn.metrics import r2_score\n",
    "rscore1 = r2_score(Y_test,Y_pred1)\n"
   ]
  },
  {
   "cell_type": "code",
   "execution_count": 22,
   "id": "a68fc0ae",
   "metadata": {},
   "outputs": [
    {
     "data": {
      "text/plain": [
       "0.8967952442781606"
      ]
     },
     "execution_count": 22,
     "metadata": {},
     "output_type": "execute_result"
    }
   ],
   "source": [
    "#model1\n",
    "rscore1"
   ]
  },
  {
   "cell_type": "code",
   "execution_count": 23,
   "id": "8dda11bc",
   "metadata": {},
   "outputs": [],
   "source": [
    "#saving model phase\n",
    "import pickle\n",
    "filename = \"bestmodel_LightGBM.sav\"\n",
    "pickle.dump(model1_create,open(filename,\"wb\"))"
   ]
  },
  {
   "cell_type": "code",
   "execution_count": 30,
   "id": "8c5dcca6",
   "metadata": {},
   "outputs": [],
   "source": [
    "#loading the model for testing purpose\n",
    "#Giving static input\n",
    "loaded_model = pickle.load(open(\"bestmodel_LightGBM.sav\",\"rb\"))\n",
    "static_input = loaded_model.predict([[61,29.070,0,0,1]])"
   ]
  },
  {
   "cell_type": "code",
   "execution_count": 31,
   "id": "51a71095",
   "metadata": {},
   "outputs": [
    {
     "data": {
      "text/plain": [
       "array([49973.44886376])"
      ]
     },
     "execution_count": 31,
     "metadata": {},
     "output_type": "execute_result"
    }
   ],
   "source": [
    "#actual output 29141.360, Predicted output 49973.44\n",
    "static_input"
   ]
  },
  {
   "cell_type": "code",
   "execution_count": 26,
   "id": "1dac6c38",
   "metadata": {},
   "outputs": [
    {
     "name": "stdout",
     "output_type": "stream",
     "text": [
      "Enter the age:61\n",
      "Enter the bmi:29.070\n",
      "Enter no of childrens:0\n",
      "Enter the gender 0 or 1:0\n",
      "Enter the smoker 0 or 1:1\n"
     ]
    }
   ],
   "source": [
    "#Giving Dynamic input\n",
    "dy_age =  int(input(\"Enter the age:\"))\n",
    "dy_bmi = float(input(\"Enter the bmi:\"))\n",
    "dy_childrens = int(input(\"Enter no of childrens:\"))\n",
    "dy_gender = int(input(\"Enter the gender 0 or 1:\"))\n",
    "dy_smoker = int(input(\"Enter the smoker 0 or 1:\"))"
   ]
  },
  {
   "cell_type": "code",
   "execution_count": 28,
   "id": "2a72327e",
   "metadata": {},
   "outputs": [],
   "source": [
    "dynamic_input = loaded_model.predict([[dy_age,dy_bmi,dy_childrens,dy_gender,dy_smoker]])"
   ]
  },
  {
   "cell_type": "code",
   "execution_count": 29,
   "id": "5f1fd39e",
   "metadata": {},
   "outputs": [
    {
     "data": {
      "text/plain": [
       "array([49973.44886376])"
      ]
     },
     "execution_count": 29,
     "metadata": {},
     "output_type": "execute_result"
    }
   ],
   "source": [
    "#actual output 29141.360, Predicted output 49973.44\n",
    "dynamic_input"
   ]
  },
  {
   "cell_type": "code",
   "execution_count": null,
   "id": "14b65614",
   "metadata": {},
   "outputs": [],
   "source": []
  }
 ],
 "metadata": {
  "kernelspec": {
   "display_name": "Python 3 (ipykernel)",
   "language": "python",
   "name": "python3"
  },
  "language_info": {
   "codemirror_mode": {
    "name": "ipython",
    "version": 3
   },
   "file_extension": ".py",
   "mimetype": "text/x-python",
   "name": "python",
   "nbconvert_exporter": "python",
   "pygments_lexer": "ipython3",
   "version": "3.9.12"
  }
 },
 "nbformat": 4,
 "nbformat_minor": 5
}
