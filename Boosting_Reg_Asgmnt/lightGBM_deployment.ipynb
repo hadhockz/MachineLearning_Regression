{
 "cells": [
  {
   "cell_type": "code",
   "execution_count": 1,
   "id": "12647411",
   "metadata": {},
   "outputs": [],
   "source": [
    "#loading the model for testing purpose\n",
    "#static input given\n",
    "import pickle\n",
    "loaded_model = pickle.load(open(\"bestmodel_LightGBM.sav\",\"rb\"))\n",
    "static_input = loaded_model.predict([[61,29.070,0,0,1]])"
   ]
  },
  {
   "cell_type": "code",
   "execution_count": 3,
   "id": "9545e1a5",
   "metadata": {},
   "outputs": [
    {
     "data": {
      "text/plain": [
       "array([49973.44886376])"
      ]
     },
     "execution_count": 3,
     "metadata": {},
     "output_type": "execute_result"
    }
   ],
   "source": [
    "#actual output 29141.360, Predicted output 49973.44\n",
    "static_input"
   ]
  },
  {
   "cell_type": "code",
   "execution_count": 4,
   "id": "aaf7003a",
   "metadata": {},
   "outputs": [
    {
     "name": "stdout",
     "output_type": "stream",
     "text": [
      "Enter the age:61\n",
      "Enter the bmi:29.070\n",
      "Enter no of childrens:0\n",
      "Enter the gender 0 or 1:0\n",
      "Enter the smoker 0 or 1:1\n"
     ]
    }
   ],
   "source": [
    "#Giving Dynamic input\n",
    "dy_age =  int(input(\"Enter the age:\"))\n",
    "dy_bmi = float(input(\"Enter the bmi:\"))\n",
    "dy_childrens = int(input(\"Enter no of childrens:\"))\n",
    "dy_gender = int(input(\"Enter the gender 0 or 1:\"))\n",
    "dy_smoker = int(input(\"Enter the smoker 0 or 1:\"))"
   ]
  },
  {
   "cell_type": "code",
   "execution_count": 5,
   "id": "7b510418",
   "metadata": {},
   "outputs": [],
   "source": [
    "dynamic_input = loaded_model.predict([[dy_age,dy_bmi,dy_childrens,dy_gender,dy_smoker]])"
   ]
  },
  {
   "cell_type": "code",
   "execution_count": 6,
   "id": "c8da701d",
   "metadata": {},
   "outputs": [
    {
     "data": {
      "text/plain": [
       "array([49973.44886376])"
      ]
     },
     "execution_count": 6,
     "metadata": {},
     "output_type": "execute_result"
    }
   ],
   "source": [
    "#actual output 29141.360, Predicted output 49973.44\n",
    "dynamic_input"
   ]
  },
  {
   "cell_type": "code",
   "execution_count": null,
   "id": "fca2e07a",
   "metadata": {},
   "outputs": [],
   "source": []
  }
 ],
 "metadata": {
  "kernelspec": {
   "display_name": "Python 3 (ipykernel)",
   "language": "python",
   "name": "python3"
  },
  "language_info": {
   "codemirror_mode": {
    "name": "ipython",
    "version": 3
   },
   "file_extension": ".py",
   "mimetype": "text/x-python",
   "name": "python",
   "nbconvert_exporter": "python",
   "pygments_lexer": "ipython3",
   "version": "3.9.12"
  }
 },
 "nbformat": 4,
 "nbformat_minor": 5
}
