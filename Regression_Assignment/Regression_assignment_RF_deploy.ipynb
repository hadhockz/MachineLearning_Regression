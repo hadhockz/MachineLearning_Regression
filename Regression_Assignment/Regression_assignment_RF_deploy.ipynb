{
 "cells": [
  {
   "cell_type": "code",
   "execution_count": 7,
   "id": "ca0ddc96",
   "metadata": {},
   "outputs": [
    {
     "name": "stderr",
     "output_type": "stream",
     "text": [
      "/home/had/anaconda3/lib/python3.9/site-packages/sklearn/base.py:450: UserWarning: X does not have valid feature names, but RandomForestRegressor was fitted with feature names\n",
      "  warnings.warn(\n"
     ]
    }
   ],
   "source": [
    "#Loading the model for testing purpose\n",
    "#Static input given\n",
    "import pickle\n",
    "loaded_model = pickle.load(open(\"bestmodel_RF.sav\", \"rb\"))\n",
    "static_input = loaded_model.predict([[33,18.500,1,1,0,0,1]])"
   ]
  },
  {
   "cell_type": "code",
   "execution_count": 8,
   "id": "de7621af",
   "metadata": {},
   "outputs": [
    {
     "data": {
      "text/plain": [
       "array([5115.81128384])"
      ]
     },
     "execution_count": 8,
     "metadata": {},
     "output_type": "execute_result"
    }
   ],
   "source": [
    "#Actual output 4766.02200, Predicted output 5115.8112\n",
    "static_input"
   ]
  },
  {
   "cell_type": "code",
   "execution_count": 9,
   "id": "78b7fcf0",
   "metadata": {},
   "outputs": [
    {
     "name": "stdout",
     "output_type": "stream",
     "text": [
      "Enter the Age:33\n",
      "Enter the BMI:18.500\n",
      "Enter no of Children:1\n",
      "Enter the s/f 0 or 1:1\n",
      "Enter the s/m 0 or 1:0\n",
      "Enter the sm/y 0 or 1:0\n",
      "Enter the sm/n 0 or 1:1\n"
     ]
    }
   ],
   "source": [
    "#Giving Dynamic input\n",
    "dynm_age = int(input(\"Enter the Age:\"))\n",
    "dynm_bmi = float(input(\"Enter the BMI:\"))\n",
    "dynm_child = int(input(\"Enter no of Children:\"))\n",
    "dynm_s_f = int(input(\"Enter the s/f 0 or 1:\"))\n",
    "dynm_s_m = int(input(\"Enter the s/m 0 or 1:\"))\n",
    "dynm_sm_y = int(input(\"Enter the sm/y 0 or 1:\"))\n",
    "dynm_sm_n = int(input(\"Enter the sm/n 0 or 1:\"))"
   ]
  },
  {
   "cell_type": "code",
   "execution_count": 10,
   "id": "8623f4d6",
   "metadata": {},
   "outputs": [
    {
     "name": "stderr",
     "output_type": "stream",
     "text": [
      "/home/had/anaconda3/lib/python3.9/site-packages/sklearn/base.py:450: UserWarning: X does not have valid feature names, but RandomForestRegressor was fitted with feature names\n",
      "  warnings.warn(\n"
     ]
    }
   ],
   "source": [
    "dynamic_input = loaded_model.predict([[dynm_age,dynm_bmi,dynm_child,dynm_s_f,dynm_s_m,dynm_sm_y,dynm_sm_n]])"
   ]
  },
  {
   "cell_type": "code",
   "execution_count": 12,
   "id": "c30d8204",
   "metadata": {},
   "outputs": [
    {
     "data": {
      "text/plain": [
       "array([5115.81128384])"
      ]
     },
     "execution_count": 12,
     "metadata": {},
     "output_type": "execute_result"
    }
   ],
   "source": [
    "#Actual output 4766.02200, Predicted output 5115.8112\n",
    "dynamic_input"
   ]
  },
  {
   "cell_type": "code",
   "execution_count": null,
   "id": "f32bb23a",
   "metadata": {},
   "outputs": [],
   "source": []
  }
 ],
 "metadata": {
  "kernelspec": {
   "display_name": "Python 3 (ipykernel)",
   "language": "python",
   "name": "python3"
  },
  "language_info": {
   "codemirror_mode": {
    "name": "ipython",
    "version": 3
   },
   "file_extension": ".py",
   "mimetype": "text/x-python",
   "name": "python",
   "nbconvert_exporter": "python",
   "pygments_lexer": "ipython3",
   "version": "3.9.12"
  }
 },
 "nbformat": 4,
 "nbformat_minor": 5
}
