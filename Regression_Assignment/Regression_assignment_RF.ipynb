{
 "cells": [
  {
   "cell_type": "code",
   "execution_count": 1,
   "id": "c9150a6b",
   "metadata": {},
   "outputs": [],
   "source": [
    "#importing libraries\n",
    "import numpy as np\n",
    "import pandas as pd\n",
    "import matplotlib.pyplot as plt"
   ]
  },
  {
   "cell_type": "code",
   "execution_count": 2,
   "id": "78245e1c",
   "metadata": {},
   "outputs": [],
   "source": [
    "#dataset reading\n",
    "dts = pd.read_csv(\"insurance_pre.csv\")"
   ]
  },
  {
   "cell_type": "code",
   "execution_count": 3,
   "id": "79a57727",
   "metadata": {},
   "outputs": [
    {
     "data": {
      "text/html": [
       "<div>\n",
       "<style scoped>\n",
       "    .dataframe tbody tr th:only-of-type {\n",
       "        vertical-align: middle;\n",
       "    }\n",
       "\n",
       "    .dataframe tbody tr th {\n",
       "        vertical-align: top;\n",
       "    }\n",
       "\n",
       "    .dataframe thead th {\n",
       "        text-align: right;\n",
       "    }\n",
       "</style>\n",
       "<table border=\"1\" class=\"dataframe\">\n",
       "  <thead>\n",
       "    <tr style=\"text-align: right;\">\n",
       "      <th></th>\n",
       "      <th>age</th>\n",
       "      <th>sex</th>\n",
       "      <th>bmi</th>\n",
       "      <th>children</th>\n",
       "      <th>smoker</th>\n",
       "      <th>charges</th>\n",
       "    </tr>\n",
       "  </thead>\n",
       "  <tbody>\n",
       "    <tr>\n",
       "      <th>0</th>\n",
       "      <td>19</td>\n",
       "      <td>female</td>\n",
       "      <td>27.900</td>\n",
       "      <td>0</td>\n",
       "      <td>yes</td>\n",
       "      <td>16884.92400</td>\n",
       "    </tr>\n",
       "    <tr>\n",
       "      <th>1</th>\n",
       "      <td>18</td>\n",
       "      <td>male</td>\n",
       "      <td>33.770</td>\n",
       "      <td>1</td>\n",
       "      <td>no</td>\n",
       "      <td>1725.55230</td>\n",
       "    </tr>\n",
       "    <tr>\n",
       "      <th>2</th>\n",
       "      <td>28</td>\n",
       "      <td>male</td>\n",
       "      <td>33.000</td>\n",
       "      <td>3</td>\n",
       "      <td>no</td>\n",
       "      <td>4449.46200</td>\n",
       "    </tr>\n",
       "    <tr>\n",
       "      <th>3</th>\n",
       "      <td>33</td>\n",
       "      <td>male</td>\n",
       "      <td>22.705</td>\n",
       "      <td>0</td>\n",
       "      <td>no</td>\n",
       "      <td>21984.47061</td>\n",
       "    </tr>\n",
       "    <tr>\n",
       "      <th>4</th>\n",
       "      <td>32</td>\n",
       "      <td>male</td>\n",
       "      <td>28.880</td>\n",
       "      <td>0</td>\n",
       "      <td>no</td>\n",
       "      <td>3866.85520</td>\n",
       "    </tr>\n",
       "    <tr>\n",
       "      <th>...</th>\n",
       "      <td>...</td>\n",
       "      <td>...</td>\n",
       "      <td>...</td>\n",
       "      <td>...</td>\n",
       "      <td>...</td>\n",
       "      <td>...</td>\n",
       "    </tr>\n",
       "    <tr>\n",
       "      <th>1333</th>\n",
       "      <td>50</td>\n",
       "      <td>male</td>\n",
       "      <td>30.970</td>\n",
       "      <td>3</td>\n",
       "      <td>no</td>\n",
       "      <td>10600.54830</td>\n",
       "    </tr>\n",
       "    <tr>\n",
       "      <th>1334</th>\n",
       "      <td>18</td>\n",
       "      <td>female</td>\n",
       "      <td>31.920</td>\n",
       "      <td>0</td>\n",
       "      <td>no</td>\n",
       "      <td>2205.98080</td>\n",
       "    </tr>\n",
       "    <tr>\n",
       "      <th>1335</th>\n",
       "      <td>18</td>\n",
       "      <td>female</td>\n",
       "      <td>36.850</td>\n",
       "      <td>0</td>\n",
       "      <td>no</td>\n",
       "      <td>1629.83350</td>\n",
       "    </tr>\n",
       "    <tr>\n",
       "      <th>1336</th>\n",
       "      <td>21</td>\n",
       "      <td>female</td>\n",
       "      <td>25.800</td>\n",
       "      <td>0</td>\n",
       "      <td>no</td>\n",
       "      <td>2007.94500</td>\n",
       "    </tr>\n",
       "    <tr>\n",
       "      <th>1337</th>\n",
       "      <td>61</td>\n",
       "      <td>female</td>\n",
       "      <td>29.070</td>\n",
       "      <td>0</td>\n",
       "      <td>yes</td>\n",
       "      <td>29141.36030</td>\n",
       "    </tr>\n",
       "  </tbody>\n",
       "</table>\n",
       "<p>1338 rows × 6 columns</p>\n",
       "</div>"
      ],
      "text/plain": [
       "      age     sex     bmi  children smoker      charges\n",
       "0      19  female  27.900         0    yes  16884.92400\n",
       "1      18    male  33.770         1     no   1725.55230\n",
       "2      28    male  33.000         3     no   4449.46200\n",
       "3      33    male  22.705         0     no  21984.47061\n",
       "4      32    male  28.880         0     no   3866.85520\n",
       "...   ...     ...     ...       ...    ...          ...\n",
       "1333   50    male  30.970         3     no  10600.54830\n",
       "1334   18  female  31.920         0     no   2205.98080\n",
       "1335   18  female  36.850         0     no   1629.83350\n",
       "1336   21  female  25.800         0     no   2007.94500\n",
       "1337   61  female  29.070         0    yes  29141.36030\n",
       "\n",
       "[1338 rows x 6 columns]"
      ]
     },
     "execution_count": 3,
     "metadata": {},
     "output_type": "execute_result"
    }
   ],
   "source": [
    "dts"
   ]
  },
  {
   "cell_type": "code",
   "execution_count": 4,
   "id": "8d5051eb",
   "metadata": {},
   "outputs": [
    {
     "data": {
      "text/plain": [
       "Index(['age', 'sex', 'bmi', 'children', 'smoker', 'charges'], dtype='object')"
      ]
     },
     "execution_count": 4,
     "metadata": {},
     "output_type": "execute_result"
    }
   ],
   "source": [
    "#viewing no of columns\n",
    "dts.columns"
   ]
  },
  {
   "cell_type": "code",
   "execution_count": 5,
   "id": "0fbaca9a",
   "metadata": {},
   "outputs": [],
   "source": [
    "#changing categorical value to numerical value\n",
    "dts = pd.get_dummies(dts)"
   ]
  },
  {
   "cell_type": "code",
   "execution_count": 6,
   "id": "8c7ff8b9",
   "metadata": {},
   "outputs": [
    {
     "data": {
      "text/html": [
       "<div>\n",
       "<style scoped>\n",
       "    .dataframe tbody tr th:only-of-type {\n",
       "        vertical-align: middle;\n",
       "    }\n",
       "\n",
       "    .dataframe tbody tr th {\n",
       "        vertical-align: top;\n",
       "    }\n",
       "\n",
       "    .dataframe thead th {\n",
       "        text-align: right;\n",
       "    }\n",
       "</style>\n",
       "<table border=\"1\" class=\"dataframe\">\n",
       "  <thead>\n",
       "    <tr style=\"text-align: right;\">\n",
       "      <th></th>\n",
       "      <th>age</th>\n",
       "      <th>bmi</th>\n",
       "      <th>children</th>\n",
       "      <th>charges</th>\n",
       "      <th>sex_female</th>\n",
       "      <th>sex_male</th>\n",
       "      <th>smoker_no</th>\n",
       "      <th>smoker_yes</th>\n",
       "    </tr>\n",
       "  </thead>\n",
       "  <tbody>\n",
       "    <tr>\n",
       "      <th>0</th>\n",
       "      <td>19</td>\n",
       "      <td>27.900</td>\n",
       "      <td>0</td>\n",
       "      <td>16884.92400</td>\n",
       "      <td>1</td>\n",
       "      <td>0</td>\n",
       "      <td>0</td>\n",
       "      <td>1</td>\n",
       "    </tr>\n",
       "    <tr>\n",
       "      <th>1</th>\n",
       "      <td>18</td>\n",
       "      <td>33.770</td>\n",
       "      <td>1</td>\n",
       "      <td>1725.55230</td>\n",
       "      <td>0</td>\n",
       "      <td>1</td>\n",
       "      <td>1</td>\n",
       "      <td>0</td>\n",
       "    </tr>\n",
       "    <tr>\n",
       "      <th>2</th>\n",
       "      <td>28</td>\n",
       "      <td>33.000</td>\n",
       "      <td>3</td>\n",
       "      <td>4449.46200</td>\n",
       "      <td>0</td>\n",
       "      <td>1</td>\n",
       "      <td>1</td>\n",
       "      <td>0</td>\n",
       "    </tr>\n",
       "    <tr>\n",
       "      <th>3</th>\n",
       "      <td>33</td>\n",
       "      <td>22.705</td>\n",
       "      <td>0</td>\n",
       "      <td>21984.47061</td>\n",
       "      <td>0</td>\n",
       "      <td>1</td>\n",
       "      <td>1</td>\n",
       "      <td>0</td>\n",
       "    </tr>\n",
       "    <tr>\n",
       "      <th>4</th>\n",
       "      <td>32</td>\n",
       "      <td>28.880</td>\n",
       "      <td>0</td>\n",
       "      <td>3866.85520</td>\n",
       "      <td>0</td>\n",
       "      <td>1</td>\n",
       "      <td>1</td>\n",
       "      <td>0</td>\n",
       "    </tr>\n",
       "    <tr>\n",
       "      <th>...</th>\n",
       "      <td>...</td>\n",
       "      <td>...</td>\n",
       "      <td>...</td>\n",
       "      <td>...</td>\n",
       "      <td>...</td>\n",
       "      <td>...</td>\n",
       "      <td>...</td>\n",
       "      <td>...</td>\n",
       "    </tr>\n",
       "    <tr>\n",
       "      <th>1333</th>\n",
       "      <td>50</td>\n",
       "      <td>30.970</td>\n",
       "      <td>3</td>\n",
       "      <td>10600.54830</td>\n",
       "      <td>0</td>\n",
       "      <td>1</td>\n",
       "      <td>1</td>\n",
       "      <td>0</td>\n",
       "    </tr>\n",
       "    <tr>\n",
       "      <th>1334</th>\n",
       "      <td>18</td>\n",
       "      <td>31.920</td>\n",
       "      <td>0</td>\n",
       "      <td>2205.98080</td>\n",
       "      <td>1</td>\n",
       "      <td>0</td>\n",
       "      <td>1</td>\n",
       "      <td>0</td>\n",
       "    </tr>\n",
       "    <tr>\n",
       "      <th>1335</th>\n",
       "      <td>18</td>\n",
       "      <td>36.850</td>\n",
       "      <td>0</td>\n",
       "      <td>1629.83350</td>\n",
       "      <td>1</td>\n",
       "      <td>0</td>\n",
       "      <td>1</td>\n",
       "      <td>0</td>\n",
       "    </tr>\n",
       "    <tr>\n",
       "      <th>1336</th>\n",
       "      <td>21</td>\n",
       "      <td>25.800</td>\n",
       "      <td>0</td>\n",
       "      <td>2007.94500</td>\n",
       "      <td>1</td>\n",
       "      <td>0</td>\n",
       "      <td>1</td>\n",
       "      <td>0</td>\n",
       "    </tr>\n",
       "    <tr>\n",
       "      <th>1337</th>\n",
       "      <td>61</td>\n",
       "      <td>29.070</td>\n",
       "      <td>0</td>\n",
       "      <td>29141.36030</td>\n",
       "      <td>1</td>\n",
       "      <td>0</td>\n",
       "      <td>0</td>\n",
       "      <td>1</td>\n",
       "    </tr>\n",
       "  </tbody>\n",
       "</table>\n",
       "<p>1338 rows × 8 columns</p>\n",
       "</div>"
      ],
      "text/plain": [
       "      age     bmi  children      charges  sex_female  sex_male  smoker_no  \\\n",
       "0      19  27.900         0  16884.92400           1         0          0   \n",
       "1      18  33.770         1   1725.55230           0         1          1   \n",
       "2      28  33.000         3   4449.46200           0         1          1   \n",
       "3      33  22.705         0  21984.47061           0         1          1   \n",
       "4      32  28.880         0   3866.85520           0         1          1   \n",
       "...   ...     ...       ...          ...         ...       ...        ...   \n",
       "1333   50  30.970         3  10600.54830           0         1          1   \n",
       "1334   18  31.920         0   2205.98080           1         0          1   \n",
       "1335   18  36.850         0   1629.83350           1         0          1   \n",
       "1336   21  25.800         0   2007.94500           1         0          1   \n",
       "1337   61  29.070         0  29141.36030           1         0          0   \n",
       "\n",
       "      smoker_yes  \n",
       "0              1  \n",
       "1              0  \n",
       "2              0  \n",
       "3              0  \n",
       "4              0  \n",
       "...          ...  \n",
       "1333           0  \n",
       "1334           0  \n",
       "1335           0  \n",
       "1336           0  \n",
       "1337           1  \n",
       "\n",
       "[1338 rows x 8 columns]"
      ]
     },
     "execution_count": 6,
     "metadata": {},
     "output_type": "execute_result"
    }
   ],
   "source": [
    "dts"
   ]
  },
  {
   "cell_type": "code",
   "execution_count": 7,
   "id": "c1fe6bdd",
   "metadata": {},
   "outputs": [],
   "source": [
    "#separate the input and output values\n",
    "feature = dts[[\"age\",\"bmi\",\"children\",\"sex_female\",\"sex_male\",\"smoker_yes\",\"smoker_no\"]]"
   ]
  },
  {
   "cell_type": "code",
   "execution_count": 8,
   "id": "6760a16f",
   "metadata": {},
   "outputs": [],
   "source": [
    "target = dts[\"charges\"]"
   ]
  },
  {
   "cell_type": "code",
   "execution_count": 9,
   "id": "4cdf25c4",
   "metadata": {},
   "outputs": [
    {
     "data": {
      "text/plain": [
       "(      age     bmi  children  sex_female  sex_male  smoker_yes  smoker_no\n",
       " 0      19  27.900         0           1         0           1          0\n",
       " 1      18  33.770         1           0         1           0          1\n",
       " 2      28  33.000         3           0         1           0          1\n",
       " 3      33  22.705         0           0         1           0          1\n",
       " 4      32  28.880         0           0         1           0          1\n",
       " ...   ...     ...       ...         ...       ...         ...        ...\n",
       " 1333   50  30.970         3           0         1           0          1\n",
       " 1334   18  31.920         0           1         0           0          1\n",
       " 1335   18  36.850         0           1         0           0          1\n",
       " 1336   21  25.800         0           1         0           0          1\n",
       " 1337   61  29.070         0           1         0           1          0\n",
       " \n",
       " [1338 rows x 7 columns],\n",
       " 0       16884.92400\n",
       " 1        1725.55230\n",
       " 2        4449.46200\n",
       " 3       21984.47061\n",
       " 4        3866.85520\n",
       "            ...     \n",
       " 1333    10600.54830\n",
       " 1334     2205.98080\n",
       " 1335     1629.83350\n",
       " 1336     2007.94500\n",
       " 1337    29141.36030\n",
       " Name: charges, Length: 1338, dtype: float64)"
      ]
     },
     "execution_count": 9,
     "metadata": {},
     "output_type": "execute_result"
    }
   ],
   "source": [
    "feature,target"
   ]
  },
  {
   "cell_type": "code",
   "execution_count": 10,
   "id": "5e49a405",
   "metadata": {},
   "outputs": [],
   "source": [
    "#splitting the train & test datasets.\n",
    "from sklearn.model_selection import train_test_split\n",
    "X_train,X_test,Y_train,Y_test = train_test_split(feature,target,test_size=0.33,random_state=0)"
   ]
  },
  {
   "cell_type": "code",
   "execution_count": 11,
   "id": "43ea4218",
   "metadata": {},
   "outputs": [
    {
     "data": {
      "text/plain": [
       "(      age     bmi  children  sex_female  sex_male  smoker_yes  smoker_no\n",
       " 1271   25  34.485         0           1         0           0          1\n",
       " 1313   19  34.700         2           1         0           1          0\n",
       " 2      28  33.000         3           0         1           0          1\n",
       " 405    52  38.380         2           1         0           0          1\n",
       " 482    18  31.350         0           1         0           0          1\n",
       " ...   ...     ...       ...         ...       ...         ...        ...\n",
       " 763    27  26.030         0           0         1           0          1\n",
       " 835    42  35.970         2           0         1           0          1\n",
       " 1216   40  25.080         0           0         1           0          1\n",
       " 559    19  35.530         0           0         1           0          1\n",
       " 684    33  18.500         1           1         0           0          1\n",
       " \n",
       " [896 rows x 7 columns],\n",
       "       age     bmi  children  sex_female  sex_male  smoker_yes  smoker_no\n",
       " 578    52  30.200         1           0         1           0          1\n",
       " 610    47  29.370         1           1         0           0          1\n",
       " 569    48  40.565         2           0         1           1          0\n",
       " 1034   61  38.380         0           0         1           0          1\n",
       " 198    51  18.050         0           1         0           0          1\n",
       " ...   ...     ...       ...         ...       ...         ...        ...\n",
       " 117    29  27.940         1           1         0           1          0\n",
       " 520    50  27.360         0           1         0           0          1\n",
       " 422    40  32.775         1           0         1           1          0\n",
       " 294    25  26.800         3           0         1           0          1\n",
       " 261    20  26.840         1           1         0           1          0\n",
       " \n",
       " [442 rows x 7 columns])"
      ]
     },
     "execution_count": 11,
     "metadata": {},
     "output_type": "execute_result"
    }
   ],
   "source": [
    "X_train,X_test"
   ]
  },
  {
   "cell_type": "code",
   "execution_count": 12,
   "id": "6f8993d1",
   "metadata": {},
   "outputs": [
    {
     "data": {
      "text/plain": [
       "(1271     3021.80915\n",
       " 1313    36397.57600\n",
       " 2        4449.46200\n",
       " 405     11396.90020\n",
       " 482      1622.18850\n",
       "            ...     \n",
       " 763      3070.80870\n",
       " 835      7160.33030\n",
       " 1216     5415.66120\n",
       " 559      1646.42970\n",
       " 684      4766.02200\n",
       " Name: charges, Length: 896, dtype: float64,\n",
       " 578      9724.53000\n",
       " 610      8547.69130\n",
       " 569     45702.02235\n",
       " 1034    12950.07120\n",
       " 198      9644.25250\n",
       "            ...     \n",
       " 117     19107.77960\n",
       " 520     25656.57526\n",
       " 422     39125.33225\n",
       " 294      3906.12700\n",
       " 261     17085.26760\n",
       " Name: charges, Length: 442, dtype: float64)"
      ]
     },
     "execution_count": 12,
     "metadata": {},
     "output_type": "execute_result"
    }
   ],
   "source": [
    "Y_train,Y_test"
   ]
  },
  {
   "cell_type": "code",
   "execution_count": 13,
   "id": "0f84c2b5",
   "metadata": {},
   "outputs": [],
   "source": [
    "#Creating & Training the model.\n",
    "from sklearn.ensemble import RandomForestRegressor\n",
    "model_create = RandomForestRegressor(criterion = \"absolute_error\",n_estimators=1000, max_features=\"log2\")\n",
    "model_create = model_create.fit(X_train,Y_train)"
   ]
  },
  {
   "cell_type": "code",
   "execution_count": 14,
   "id": "e4557313",
   "metadata": {},
   "outputs": [],
   "source": [
    "#Storing the predicted values.\n",
    "Y_pred = model_create.predict(X_test)"
   ]
  },
  {
   "cell_type": "code",
   "execution_count": 15,
   "id": "0e5c5118",
   "metadata": {},
   "outputs": [
    {
     "data": {
      "text/plain": [
       "array([10651.06353829,  9602.23371645, 43580.31640328, 14250.47863682,\n",
       "        9619.41429692, 11671.53840348,  2871.45251122, 11589.53549408,\n",
       "        7717.13776482,  5776.32776905,  6072.78030014, 11169.76607089,\n",
       "        8195.48756785,  5512.69482153, 23992.64780476, 11155.59745919,\n",
       "       13260.8521761 ,  4250.68034851,  7165.31636653, 32032.49179209,\n",
       "       25582.0140648 , 14992.94780729, 11001.65604691, 26836.71857108,\n",
       "        2457.77008118,  6906.76403091,  4036.81939741,  8541.99235534,\n",
       "        3885.56839195, 12107.26392156,  8669.63942593, 44846.64256682,\n",
       "       14422.07340675, 13550.45961035, 18488.90868768,  4368.03243946,\n",
       "        8767.91845464, 37074.17046738, 38384.68551569,  2438.34300793,\n",
       "        5440.4825687 ,  4472.40303175, 22113.4213855 , 45492.00069626,\n",
       "       37292.26262075,  3869.86843416, 11281.86259898,  6490.76464606,\n",
       "        6299.91703483, 13151.85685226,  4628.72967259,  5340.31547075,\n",
       "       27392.52645331, 43952.40991155, 11697.78467323, 10882.43184138,\n",
       "        4631.90969104, 11055.93639849,  9325.63754692, 14838.81469964,\n",
       "        2122.2206099 , 44029.88473259, 15805.3992621 , 18425.30339232,\n",
       "       10951.76055594, 10511.54696038, 30750.65654609, 37825.00566953,\n",
       "        5246.78025582,  8195.81474189, 14525.93864632, 11541.68247455,\n",
       "       18671.30385922, 14634.3842629 , 13502.21637082, 12733.42668136,\n",
       "       10284.63211021, 16167.4880955 , 21680.23407659, 43594.00038178,\n",
       "       11427.45444842, 46343.8257278 ,  3915.26351823,  9193.11784044,\n",
       "       39979.13640845, 21078.75500941,  5196.67536618,  2902.04930254,\n",
       "       12897.88676581, 36896.20575951,  6196.66749041, 14278.89083517,\n",
       "        3539.9894413 , 10183.57807636,  9840.0191302 ,  4640.74814754,\n",
       "       41883.07726907, 40887.33540587,  5253.13776891, 11472.95784976,\n",
       "        4583.90935522,  7471.69583121,  7834.70603181, 36818.12097012,\n",
       "       26570.05660213,  4484.61703479, 11012.64805399,  3449.88329833,\n",
       "       11619.75801664, 44305.16543491, 11516.00327518,  8251.00005647,\n",
       "        9962.80196379, 33823.35630709, 43460.05451493,  7264.87043038,\n",
       "        3154.51410862, 11379.82570781, 14109.70820885, 10955.20861935,\n",
       "       41937.67795141, 11783.24123673, 13754.26650543,  8092.59398581,\n",
       "       11295.68903579,  5433.63264241, 24504.217069  , 26460.98750301,\n",
       "       46321.48867197,  2107.00008995,  9547.81810778,  4021.3215079 ,\n",
       "        6529.54990373,  9345.13715588, 33653.25355952, 34654.36275426,\n",
       "       26602.94891503, 10492.46921237, 24886.41786668,  4821.72208576,\n",
       "        2262.88033096, 12297.14728873, 10660.86367696, 11484.0814347 ,\n",
       "        7012.76740171, 14011.20847077, 18581.87217928, 11651.06632592,\n",
       "        2066.61073173, 11367.25148227,  6319.6271054 , 37287.3156451 ,\n",
       "       10081.29549614,  5561.75535287,  3572.77688204,  7446.21143424,\n",
       "        3532.07374582,  6060.46237369, 11170.44850439, 10008.20647538,\n",
       "        5520.76682551, 13234.77047668, 13187.15662423,  9415.36797103,\n",
       "        4367.2119493 ,  6529.46107634, 18380.93913354,  8765.5758343 ,\n",
       "        5412.21723979,  2471.15459213,  6240.13099873,  5737.69207042,\n",
       "        9932.65179613,  2557.20375603,  5279.49016993,  6602.64992536,\n",
       "        4607.73085413,  6602.24036882, 31632.3982364 ,  2034.97571975,\n",
       "       15548.22257148,  6586.10010092, 11291.69787456,  5595.60261207,\n",
       "        7923.64630846, 28527.55708766,  2658.61570397,  3360.1525309 ,\n",
       "       13896.84282814, 10529.45636983, 41142.42302803,  8331.76951993,\n",
       "        5673.67210373, 27631.76453955,  3248.51642712,  2726.60361364,\n",
       "        7436.17711081,  6543.33994278,  9578.10779226,  5144.82891351,\n",
       "       11977.33240966, 43869.45485538, 16245.97172759, 19817.23937779,\n",
       "       12585.30412688, 43106.98947167,  4399.14242034,  9730.66362834,\n",
       "       10646.81360987,  3485.10570087,  8891.13053841, 13620.14273101,\n",
       "        8428.40384514,  5212.45719541,  6526.44264132,  2875.57752372,\n",
       "        6555.51077638,  5863.06161853, 13830.25976338,  6595.33145395,\n",
       "        8391.81868665,  8067.79032196, 10718.89532475, 11491.4923004 ,\n",
       "       12246.67701481, 14196.8723008 , 16349.76096594, 12732.35330278,\n",
       "        6617.27472889,  2904.22343122,  2517.06029602,  8241.41315241,\n",
       "       13256.66341205,  8582.10079211,  7200.27173155,  7560.76870329,\n",
       "       11905.88898089, 33719.68273801,  5958.7554589 , 11684.99521736,\n",
       "        5936.78108131, 36795.96040318, 10168.11503223,  8988.01852348,\n",
       "        9607.18646556, 10786.81149172,  3581.23058889,  8491.58344264,\n",
       "        5054.42034744,  6434.75423762, 20518.49216195, 44097.11592293,\n",
       "        6033.76982514,  5107.50446294,  8867.20137012,  1715.51400105,\n",
       "        8289.85313258,  3702.47792468,  6242.16541863,  9128.23602605,\n",
       "        8561.5925285 , 25899.46894556, 43491.70691646, 15702.82532038,\n",
       "        6371.99293198, 11562.97209619, 40766.47127289, 11009.40639629,\n",
       "       40303.45745468,  1655.8575927 , 38581.50705119,  6776.11645351,\n",
       "       13173.94678858,  9298.66375192, 38461.04164935,  5240.94567195,\n",
       "       10006.88324795,  9563.65034988,  5574.51240851, 15198.71146189,\n",
       "       11899.47170134,  9569.29923509, 14284.66013865, 12563.42390295,\n",
       "        6551.02933955,  4698.69970455,  9011.7569616 , 22586.40597532,\n",
       "        5077.37109774,  1938.9760453 ,  2962.25360958, 44902.46792391,\n",
       "        9910.11613106,  4487.43759543, 15162.27696909, 14384.31798111,\n",
       "       33462.27813262,  7854.64339453,  5796.02544817,  8909.09166388,\n",
       "        3587.59408649,  4593.75675272, 20487.94079088, 18646.97411644,\n",
       "       13468.18618113,  2892.50154015,  3752.15105675, 10377.74870737,\n",
       "       10356.56564855, 19259.20857948, 20983.17916329,  6946.12926255,\n",
       "       18585.14789886,  3264.17876591,  6474.08030841,  9353.1848285 ,\n",
       "       15152.02839413,  3360.55988334,  8813.90240909, 44333.87261472,\n",
       "        4384.37758369,  5745.11494777,  2531.69739934, 13916.5196999 ,\n",
       "        3785.87241604, 12180.84910709, 42902.37541902, 20360.55733883,\n",
       "        9342.73092319, 41236.05953584, 16811.2732539 , 12972.24199579,\n",
       "       10085.76253772,  6416.61473565, 28599.93841194,  4652.24964629,\n",
       "       14746.73547446,  3069.44866356, 18508.81270731,  3883.51527202,\n",
       "       26846.70499659,  8382.20969171,  2905.11422101, 39263.03934572,\n",
       "        8567.08321132,  5266.8518991 , 33838.00534063,  3546.19598749,\n",
       "        9618.54463121,  3675.64411869, 12045.97024743,  3912.38037193,\n",
       "        6982.4459287 ,  7063.87529992, 42662.35924323, 11280.78071546,\n",
       "       35988.50078686, 36095.50462459,  5971.92699029,  8086.3860269 ,\n",
       "        1909.91498111,  5561.28831957,  4700.01442855,  8895.09538582,\n",
       "       45383.05795907, 11349.08889021,  2491.03942452, 12628.47606482,\n",
       "        2393.01579021, 13772.50152208, 11513.88990312,  2683.35560994,\n",
       "        5174.30277856, 35752.32140802,  6209.3554038 ,  2389.42872665,\n",
       "       39352.23767548, 11681.0475879 , 42858.00859638, 11504.46444418,\n",
       "        6346.41227567,  2520.47088887,  2468.87913234, 11368.09279104,\n",
       "        5889.13595794,  2453.46440889, 11259.38174931,  7385.00774599,\n",
       "        7115.38531731,  9228.21943422,  8545.51569456, 40116.81060796,\n",
       "        2451.46964077, 11513.04081159,  6483.24873276, 16165.47134892,\n",
       "       11497.6281936 ,  8079.87065436, 19854.55784913, 12955.80755338,\n",
       "       16481.41064522, 18773.68599269,  5247.49452825,  6100.48763962,\n",
       "       11981.70205115,  9163.00778256,  6712.06572995,  4769.03746488,\n",
       "       34000.42898252, 13012.12370552,  8380.39822267, 13733.9696602 ,\n",
       "       13636.42828972, 12391.77060459, 43625.38685133,  5404.26271469,\n",
       "        9751.31941692,  2028.16105373, 15458.49093511,  2242.87327593,\n",
       "        7042.52058465,  2279.35744298, 12064.16746567,  8100.22626101,\n",
       "        9889.05397271, 41623.07735402,  5313.82058365, 32577.99961015,\n",
       "       22059.78334619, 11593.06264369, 11315.27694793, 37749.03273733,\n",
       "       11679.13014029,  3693.94359903,  9336.52762768, 23394.22665082,\n",
       "       35730.90878936, 19945.28947375,  9922.02544746, 37546.28337939,\n",
       "        5569.30355282, 18787.63141406])"
      ]
     },
     "execution_count": 15,
     "metadata": {},
     "output_type": "execute_result"
    }
   ],
   "source": [
    "Y_pred"
   ]
  },
  {
   "cell_type": "code",
   "execution_count": 16,
   "id": "6cf6ca1c",
   "metadata": {},
   "outputs": [],
   "source": [
    "#Evaluation metrics for model prediction.\n",
    "from sklearn.metrics import r2_score\n",
    "rscore=r2_score(Y_test,Y_pred)"
   ]
  },
  {
   "cell_type": "code",
   "execution_count": 17,
   "id": "64833d31",
   "metadata": {},
   "outputs": [
    {
     "data": {
      "text/plain": [
       "0.8736764438863796"
      ]
     },
     "execution_count": 17,
     "metadata": {},
     "output_type": "execute_result"
    }
   ],
   "source": [
    "rscore"
   ]
  },
  {
   "cell_type": "code",
   "execution_count": 18,
   "id": "1dfc9a5b",
   "metadata": {},
   "outputs": [],
   "source": [
    "#Saving model phase\n",
    "import pickle\n",
    "filename = \"bestmodel_RF.sav\"\n",
    "pickle.dump(model_create,open(filename,\"wb\"))"
   ]
  },
  {
   "cell_type": "code",
   "execution_count": 24,
   "id": "40953544",
   "metadata": {},
   "outputs": [
    {
     "name": "stderr",
     "output_type": "stream",
     "text": [
      "/home/had/anaconda3/lib/python3.9/site-packages/sklearn/base.py:450: UserWarning: X does not have valid feature names, but RandomForestRegressor was fitted with feature names\n",
      "  warnings.warn(\n"
     ]
    }
   ],
   "source": [
    "#Loading the model for testing purpose\n",
    "#Giving Static input\n",
    "loaded_model = pickle.load(open(\"bestmodel_RF.sav\", \"rb\"))\n",
    "static_input = loaded_model.predict([[33,18.500,1,1,0,0,1]])"
   ]
  },
  {
   "cell_type": "code",
   "execution_count": 25,
   "id": "f28a0b72",
   "metadata": {},
   "outputs": [
    {
     "data": {
      "text/plain": [
       "array([5115.81128384])"
      ]
     },
     "execution_count": 25,
     "metadata": {},
     "output_type": "execute_result"
    }
   ],
   "source": [
    "#Actual output 4766.02200, Predicted output 5115.8112\n",
    "static_input"
   ]
  },
  {
   "cell_type": "code",
   "execution_count": 26,
   "id": "88be0874",
   "metadata": {},
   "outputs": [
    {
     "name": "stdout",
     "output_type": "stream",
     "text": [
      "Enter the Age:33\n",
      "Enter the BMI:18.500\n",
      "Enter no of Children:1\n",
      "Enter the s/f 0 or 1:1\n",
      "Enter the s/m 0 or 1:0\n",
      "Enter the sm/y 0 or 1:0\n",
      "Enter the sm/n 0 or 1:1\n"
     ]
    }
   ],
   "source": [
    "#Giving Dynamic input\n",
    "dynm_age = int(input(\"Enter the Age:\"))\n",
    "dynm_bmi = float(input(\"Enter the BMI:\"))\n",
    "dynm_child = int(input(\"Enter no of Children:\"))\n",
    "dynm_s_f = int(input(\"Enter the s/f 0 or 1:\"))\n",
    "dynm_s_m = int(input(\"Enter the s/m 0 or 1:\"))\n",
    "dynm_sm_y = int(input(\"Enter the sm/y 0 or 1:\"))\n",
    "dynm_sm_n = int(input(\"Enter the sm/n 0 or 1:\"))"
   ]
  },
  {
   "cell_type": "code",
   "execution_count": 27,
   "id": "cedb2e7d",
   "metadata": {},
   "outputs": [
    {
     "name": "stderr",
     "output_type": "stream",
     "text": [
      "/home/had/anaconda3/lib/python3.9/site-packages/sklearn/base.py:450: UserWarning: X does not have valid feature names, but RandomForestRegressor was fitted with feature names\n",
      "  warnings.warn(\n"
     ]
    }
   ],
   "source": [
    "dynamic_input = loaded_model.predict([[dynm_age,dynm_bmi,dynm_child,dynm_s_f,dynm_s_m,dynm_sm_y,dynm_sm_n]])"
   ]
  },
  {
   "cell_type": "code",
   "execution_count": 28,
   "id": "429efbef",
   "metadata": {},
   "outputs": [
    {
     "data": {
      "text/plain": [
       "array([5115.81128384])"
      ]
     },
     "execution_count": 28,
     "metadata": {},
     "output_type": "execute_result"
    }
   ],
   "source": [
    "##Actual output 4766.02200, Predicted output 5115.8112\n",
    "dynamic_input"
   ]
  },
  {
   "cell_type": "code",
   "execution_count": null,
   "id": "ff18897e",
   "metadata": {},
   "outputs": [],
   "source": []
  }
 ],
 "metadata": {
  "kernelspec": {
   "display_name": "Python 3 (ipykernel)",
   "language": "python",
   "name": "python3"
  },
  "language_info": {
   "codemirror_mode": {
    "name": "ipython",
    "version": 3
   },
   "file_extension": ".py",
   "mimetype": "text/x-python",
   "name": "python",
   "nbconvert_exporter": "python",
   "pygments_lexer": "ipython3",
   "version": "3.9.12"
  }
 },
 "nbformat": 4,
 "nbformat_minor": 5
}
