{
 "cells": [
  {
   "cell_type": "code",
   "execution_count": 1,
   "id": "81279776",
   "metadata": {},
   "outputs": [],
   "source": [
    "#importing libraries\n",
    "import pandas as pd\n",
    "import pickle\n",
    "import numpy as np"
   ]
  },
  {
   "cell_type": "code",
   "execution_count": 2,
   "id": "4f52fd63",
   "metadata": {},
   "outputs": [],
   "source": [
    "#loading the dataset which is saved.\n",
    "loaded_data = np.load(\"dataset_file.npy\")"
   ]
  },
  {
   "cell_type": "code",
   "execution_count": 3,
   "id": "c82347d3",
   "metadata": {},
   "outputs": [
    {
     "data": {
      "text/plain": [
       "array([[1.6534920e+05, 1.3689780e+05, 4.7178410e+05, 1.9226183e+05,\n",
       "        0.0000000e+00, 1.0000000e+00],\n",
       "       [1.6259770e+05, 1.5137759e+05, 4.4389853e+05, 1.9179206e+05,\n",
       "        0.0000000e+00, 0.0000000e+00],\n",
       "       [1.5344151e+05, 1.0114555e+05, 4.0793454e+05, 1.9105039e+05,\n",
       "        1.0000000e+00, 0.0000000e+00],\n",
       "       [1.4437241e+05, 1.1867185e+05, 3.8319962e+05, 1.8290199e+05,\n",
       "        0.0000000e+00, 1.0000000e+00],\n",
       "       [1.4210734e+05, 9.1391770e+04, 3.6616842e+05, 1.6618794e+05,\n",
       "        1.0000000e+00, 0.0000000e+00],\n",
       "       [1.3187690e+05, 9.9814710e+04, 3.6286136e+05, 1.5699112e+05,\n",
       "        0.0000000e+00, 1.0000000e+00],\n",
       "       [1.3461546e+05, 1.4719887e+05, 1.2771682e+05, 1.5612251e+05,\n",
       "        0.0000000e+00, 0.0000000e+00],\n",
       "       [1.3029813e+05, 1.4553006e+05, 3.2387668e+05, 1.5575260e+05,\n",
       "        1.0000000e+00, 0.0000000e+00],\n",
       "       [1.2054252e+05, 1.4871895e+05, 3.1161329e+05, 1.5221177e+05,\n",
       "        0.0000000e+00, 1.0000000e+00],\n",
       "       [1.2333488e+05, 1.0867917e+05, 3.0498162e+05, 1.4975996e+05,\n",
       "        0.0000000e+00, 0.0000000e+00],\n",
       "       [1.0191308e+05, 1.1059411e+05, 2.2916095e+05, 1.4612195e+05,\n",
       "        1.0000000e+00, 0.0000000e+00],\n",
       "       [1.0067196e+05, 9.1790610e+04, 2.4974455e+05, 1.4425940e+05,\n",
       "        0.0000000e+00, 0.0000000e+00],\n",
       "       [9.3863750e+04, 1.2732038e+05, 2.4983944e+05, 1.4158552e+05,\n",
       "        1.0000000e+00, 0.0000000e+00],\n",
       "       [9.1992390e+04, 1.3549507e+05, 2.5266493e+05, 1.3430735e+05,\n",
       "        0.0000000e+00, 0.0000000e+00],\n",
       "       [1.1994324e+05, 1.5654742e+05, 2.5651292e+05, 1.3260265e+05,\n",
       "        1.0000000e+00, 0.0000000e+00],\n",
       "       [1.1452361e+05, 1.2261684e+05, 2.6177623e+05, 1.2991704e+05,\n",
       "        0.0000000e+00, 1.0000000e+00],\n",
       "       [7.8013110e+04, 1.2159755e+05, 2.6434606e+05, 1.2699293e+05,\n",
       "        0.0000000e+00, 0.0000000e+00],\n",
       "       [9.4657160e+04, 1.4507758e+05, 2.8257431e+05, 1.2537037e+05,\n",
       "        0.0000000e+00, 1.0000000e+00],\n",
       "       [9.1749160e+04, 1.1417579e+05, 2.9491957e+05, 1.2426690e+05,\n",
       "        1.0000000e+00, 0.0000000e+00],\n",
       "       [8.6419700e+04, 1.5351411e+05, 0.0000000e+00, 1.2277686e+05,\n",
       "        0.0000000e+00, 1.0000000e+00],\n",
       "       [7.6253860e+04, 1.1386730e+05, 2.9866447e+05, 1.1847403e+05,\n",
       "        0.0000000e+00, 0.0000000e+00],\n",
       "       [7.8389470e+04, 1.5377343e+05, 2.9973729e+05, 1.1131302e+05,\n",
       "        0.0000000e+00, 1.0000000e+00],\n",
       "       [7.3994560e+04, 1.2278275e+05, 3.0331926e+05, 1.1035225e+05,\n",
       "        1.0000000e+00, 0.0000000e+00],\n",
       "       [6.7532530e+04, 1.0575103e+05, 3.0476873e+05, 1.0873399e+05,\n",
       "        1.0000000e+00, 0.0000000e+00],\n",
       "       [7.7044010e+04, 9.9281340e+04, 1.4057481e+05, 1.0855204e+05,\n",
       "        0.0000000e+00, 1.0000000e+00],\n",
       "       [6.4664710e+04, 1.3955316e+05, 1.3796262e+05, 1.0740434e+05,\n",
       "        0.0000000e+00, 0.0000000e+00],\n",
       "       [7.5328870e+04, 1.4413598e+05, 1.3405007e+05, 1.0573354e+05,\n",
       "        1.0000000e+00, 0.0000000e+00],\n",
       "       [7.2107600e+04, 1.2786455e+05, 3.5318381e+05, 1.0500831e+05,\n",
       "        0.0000000e+00, 1.0000000e+00],\n",
       "       [6.6051520e+04, 1.8264556e+05, 1.1814820e+05, 1.0328238e+05,\n",
       "        1.0000000e+00, 0.0000000e+00],\n",
       "       [6.5605480e+04, 1.5303206e+05, 1.0713838e+05, 1.0100464e+05,\n",
       "        0.0000000e+00, 1.0000000e+00],\n",
       "       [6.1994480e+04, 1.1564128e+05, 9.1131240e+04, 9.9937590e+04,\n",
       "        1.0000000e+00, 0.0000000e+00],\n",
       "       [6.1136380e+04, 1.5270192e+05, 8.8218230e+04, 9.7483560e+04,\n",
       "        0.0000000e+00, 1.0000000e+00],\n",
       "       [6.3408860e+04, 1.2921961e+05, 4.6085250e+04, 9.7427840e+04,\n",
       "        0.0000000e+00, 0.0000000e+00],\n",
       "       [5.5493950e+04, 1.0305749e+05, 2.1463481e+05, 9.6778920e+04,\n",
       "        1.0000000e+00, 0.0000000e+00],\n",
       "       [4.6426070e+04, 1.5769392e+05, 2.1079767e+05, 9.6712800e+04,\n",
       "        0.0000000e+00, 0.0000000e+00],\n",
       "       [4.6014020e+04, 8.5047440e+04, 2.0551764e+05, 9.6479510e+04,\n",
       "        0.0000000e+00, 1.0000000e+00],\n",
       "       [2.8663760e+04, 1.2705621e+05, 2.0112682e+05, 9.0708190e+04,\n",
       "        1.0000000e+00, 0.0000000e+00],\n",
       "       [4.4069950e+04, 5.1283140e+04, 1.9702942e+05, 8.9949140e+04,\n",
       "        0.0000000e+00, 0.0000000e+00],\n",
       "       [2.0229590e+04, 6.5947930e+04, 1.8526510e+05, 8.1229060e+04,\n",
       "        0.0000000e+00, 1.0000000e+00],\n",
       "       [3.8558510e+04, 8.2982090e+04, 1.7499930e+05, 8.1005760e+04,\n",
       "        0.0000000e+00, 0.0000000e+00],\n",
       "       [2.8754330e+04, 1.1854605e+05, 1.7279567e+05, 7.8239910e+04,\n",
       "        0.0000000e+00, 0.0000000e+00],\n",
       "       [2.7892920e+04, 8.4710770e+04, 1.6447071e+05, 7.7798830e+04,\n",
       "        1.0000000e+00, 0.0000000e+00],\n",
       "       [2.3640930e+04, 9.6189630e+04, 1.4800111e+05, 7.1498490e+04,\n",
       "        0.0000000e+00, 0.0000000e+00],\n",
       "       [1.5505730e+04, 1.2738230e+05, 3.5534170e+04, 6.9758980e+04,\n",
       "        0.0000000e+00, 1.0000000e+00],\n",
       "       [2.2177740e+04, 1.5480614e+05, 2.8334720e+04, 6.5200330e+04,\n",
       "        0.0000000e+00, 0.0000000e+00],\n",
       "       [1.0002300e+03, 1.2415304e+05, 1.9039300e+03, 6.4926080e+04,\n",
       "        0.0000000e+00, 1.0000000e+00],\n",
       "       [1.3154600e+03, 1.1581621e+05, 2.9711446e+05, 4.9490750e+04,\n",
       "        1.0000000e+00, 0.0000000e+00],\n",
       "       [0.0000000e+00, 1.3542692e+05, 0.0000000e+00, 4.2559730e+04,\n",
       "        0.0000000e+00, 0.0000000e+00],\n",
       "       [5.4205000e+02, 5.1743150e+04, 0.0000000e+00, 3.5673410e+04,\n",
       "        0.0000000e+00, 1.0000000e+00],\n",
       "       [0.0000000e+00, 1.1698380e+05, 4.5173060e+04, 1.4681400e+04,\n",
       "        0.0000000e+00, 0.0000000e+00]])"
      ]
     },
     "execution_count": 3,
     "metadata": {},
     "output_type": "execute_result"
    }
   ],
   "source": [
    "loaded_data"
   ]
  },
  {
   "cell_type": "code",
   "execution_count": 4,
   "id": "f08cc3cb",
   "metadata": {},
   "outputs": [],
   "source": [
    "# Load the training data\n",
    "with open('train_data.pkl', 'rb') as file:\n",
    "    X_train_loaded, y_train_loaded = pickle.load(file)\n",
    "\n",
    "# Load the testing data\n",
    "with open('test_data.pkl', 'rb') as file:\n",
    "    X_test_loaded, y_test_loaded = pickle.load(file)"
   ]
  },
  {
   "cell_type": "code",
   "execution_count": 5,
   "id": "148f386d",
   "metadata": {},
   "outputs": [],
   "source": [
    "#loading the saved standaradscaler function\n",
    "from joblib import load\n",
    "loaded_scaler = load('standarad_scaler.joblib')"
   ]
  },
  {
   "cell_type": "code",
   "execution_count": 6,
   "id": "080d8262",
   "metadata": {},
   "outputs": [
    {
     "data": {
      "text/plain": [
       "StandardScaler()"
      ]
     },
     "execution_count": 6,
     "metadata": {},
     "output_type": "execute_result"
    }
   ],
   "source": [
    "loaded_scaler"
   ]
  },
  {
   "cell_type": "code",
   "execution_count": 7,
   "id": "da52b475",
   "metadata": {},
   "outputs": [],
   "source": [
    "#loading transformed standaradscaler from test set\n",
    "transformed_data = loaded_scaler.transform(X_test_loaded)"
   ]
  },
  {
   "cell_type": "code",
   "execution_count": 8,
   "id": "978f0c19",
   "metadata": {},
   "outputs": [
    {
     "data": {
      "text/plain": [
       "array([[-0.07603728,  2.36704999, -0.58361684,  2.36643191, -0.80622577],\n",
       "       [ 0.63847282, -1.18525561,  0.41167846, -0.42257713, -0.80622577],\n",
       "       [ 0.66408753, -0.4500642 ,  0.25599967,  2.36643191, -0.80622577],\n",
       "       [-0.86356929, -1.46206777, -0.2332684 ,  2.36643191, -0.80622577],\n",
       "       [ 1.7275513 , -0.81949011,  1.60810794,  2.36643191, -0.80622577],\n",
       "       [ 0.04895046,  0.22518663,  1.19401482, -0.42257713,  1.24034735],\n",
       "       [-1.02172808, -2.19566942, -0.07599535, -0.42257713,  1.24034735],\n",
       "       [-0.17747785,  1.19629418, -0.8099845 , -0.42257713,  1.24034735],\n",
       "       [ 0.08789427,  0.02649513,  0.81687706,  2.36643191, -0.80622577],\n",
       "       [ 1.49363229, -1.20084971,  1.29222059,  2.36643191, -0.80622577],\n",
       "       [-0.29392851, -0.74473584,  0.14613493,  2.36643191, -0.80622577],\n",
       "       [-0.48957899, -1.44890443,  0.07717955, -0.42257713,  1.24034735],\n",
       "       [ 0.11543228,  0.86137752, -0.46334712,  2.36643191, -0.80622577],\n",
       "       [-0.48107494,  1.39147463,  0.1171137 , -0.42257713, -0.80622577],\n",
       "       [ 0.4543206 , -0.31002536,  0.75334816,  2.36643191, -0.80622577],\n",
       "       [ 1.24990923,  0.91588416,  0.97235784,  2.36643191, -0.80622577],\n",
       "       [ 1.03620098,  1.34664803,  0.46286929,  2.36643191, -0.80622577]])"
      ]
     },
     "execution_count": 8,
     "metadata": {},
     "output_type": "execute_result"
    }
   ],
   "source": [
    "#printing the convertion of raw input to \n",
    "#standaradscaler form(preprocessed state)\n",
    "transformed_data"
   ]
  },
  {
   "cell_type": "code",
   "execution_count": 9,
   "id": "6d2b5dec",
   "metadata": {
    "scrolled": true
   },
   "outputs": [
    {
     "name": "stderr",
     "output_type": "stream",
     "text": [
      "/home/had/anaconda3/lib/python3.9/site-packages/sklearn/base.py:450: UserWarning: X does not have valid feature names, but StandardScaler was fitted with feature names\n",
      "  warnings.warn(\n"
     ]
    }
   ],
   "source": [
    "#converting the Raw_input to pre_processed input using python code\n",
    "preproc_input= loaded_scaler.transform([[13000,12000,4000,0,1]])"
   ]
  },
  {
   "cell_type": "code",
   "execution_count": 10,
   "id": "b379d787",
   "metadata": {},
   "outputs": [
    {
     "data": {
      "text/plain": [
       "array([[-1.17093516, -4.30496048, -1.44694752, -0.42257713,  1.24034735]])"
      ]
     },
     "execution_count": 10,
     "metadata": {},
     "output_type": "execute_result"
    }
   ],
   "source": [
    "#Converting the user input to preprocessed input\n",
    "preproc_input"
   ]
  },
  {
   "cell_type": "code",
   "execution_count": 11,
   "id": "70294870",
   "metadata": {},
   "outputs": [],
   "source": [
    "#loading the saved model & predicting the preprocessed input\n",
    "loaded_model=pickle.load(open(\"bestmodel_svm_preinput.sav\",\"rb\"))\n",
    "result = loaded_model.predict(preproc_input)"
   ]
  },
  {
   "cell_type": "code",
   "execution_count": 12,
   "id": "1a8f6aff",
   "metadata": {},
   "outputs": [
    {
     "data": {
      "text/plain": [
       "array([107181.20623513])"
      ]
     },
     "execution_count": 12,
     "metadata": {},
     "output_type": "execute_result"
    }
   ],
   "source": [
    "#output in Raw state(human understandable form)\n",
    "result"
   ]
  },
  {
   "cell_type": "code",
   "execution_count": 13,
   "id": "b32205ca",
   "metadata": {},
   "outputs": [
    {
     "name": "stdout",
     "output_type": "stream",
     "text": [
      "Enter RND value:13000\n",
      "Enter admin value:12000\n",
      "Enter the marketspend:4000\n",
      "Enter the value 0 or 1:1\n",
      "Enter the value 0 or 1:0\n"
     ]
    }
   ],
   "source": [
    "#giving Dyanmic input\n",
    "dy_rnd = float(input(\"Enter RND value:\"))\n",
    "dy_admin =float(input(\"Enter admin value:\"))\n",
    "dy_markspnd =float(input(\"Enter the marketspend:\"))\n",
    "dy_florida = int(input(\"Enter the value 0 or 1:\"))\n",
    "dy_newyork = int(input(\"Enter the value 0 or 1:\"))\n"
   ]
  },
  {
   "cell_type": "code",
   "execution_count": 14,
   "id": "268a5e13",
   "metadata": {},
   "outputs": [
    {
     "name": "stderr",
     "output_type": "stream",
     "text": [
      "/home/had/anaconda3/lib/python3.9/site-packages/sklearn/base.py:450: UserWarning: X does not have valid feature names, but StandardScaler was fitted with feature names\n",
      "  warnings.warn(\n"
     ]
    }
   ],
   "source": [
    "dyn_inp_result =loaded_model.predict(loaded_scaler.transform([[dy_rnd,dy_admin,dy_markspnd,dy_florida,dy_newyork]]))"
   ]
  },
  {
   "cell_type": "code",
   "execution_count": 15,
   "id": "94d3a044",
   "metadata": {},
   "outputs": [
    {
     "data": {
      "text/plain": [
       "array([107861.0302793])"
      ]
     },
     "execution_count": 15,
     "metadata": {},
     "output_type": "execute_result"
    }
   ],
   "source": [
    "#output in raw state.\n",
    "dyn_inp_result"
   ]
  },
  {
   "cell_type": "code",
   "execution_count": null,
   "id": "af37349b",
   "metadata": {},
   "outputs": [],
   "source": []
  }
 ],
 "metadata": {
  "kernelspec": {
   "display_name": "Python 3 (ipykernel)",
   "language": "python",
   "name": "python3"
  },
  "language_info": {
   "codemirror_mode": {
    "name": "ipython",
    "version": 3
   },
   "file_extension": ".py",
   "mimetype": "text/x-python",
   "name": "python",
   "nbconvert_exporter": "python",
   "pygments_lexer": "ipython3",
   "version": "3.9.12"
  }
 },
 "nbformat": 4,
 "nbformat_minor": 5
}
