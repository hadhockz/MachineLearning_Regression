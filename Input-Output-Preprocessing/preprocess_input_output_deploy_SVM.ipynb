{
 "cells": [
  {
   "cell_type": "code",
   "execution_count": 1,
   "id": "81279776",
   "metadata": {},
   "outputs": [],
   "source": [
    "#importing libraries\n",
    "import pandas as pd\n",
    "import pickle"
   ]
  },
  {
   "cell_type": "code",
   "execution_count": 2,
   "id": "f8d4ece9",
   "metadata": {},
   "outputs": [],
   "source": [
    "# Reading dataset\n",
    "dataset = pd.read_csv(\"50_Startups.csv\")"
   ]
  },
  {
   "cell_type": "code",
   "execution_count": 3,
   "id": "8cfd5e01",
   "metadata": {},
   "outputs": [],
   "source": [
    "#Removing the presence of dummies in state column & converting categorical value to numerical.\n",
    "dataset = pd.get_dummies(dataset,drop_first=True)"
   ]
  },
  {
   "cell_type": "code",
   "execution_count": 4,
   "id": "0c819126",
   "metadata": {},
   "outputs": [],
   "source": [
    "#Column renaming\n",
    "dataset.rename(columns={\"State_Florida\":\"Florida\",\"State_New York\":\"NewYork\"},inplace=True)"
   ]
  },
  {
   "cell_type": "code",
   "execution_count": 5,
   "id": "51b89d9c",
   "metadata": {},
   "outputs": [
    {
     "data": {
      "text/plain": [
       "Index(['R&D Spend', 'Administration', 'Marketing Spend', 'Profit', 'Florida',\n",
       "       'NewYork'],\n",
       "      dtype='object')"
      ]
     },
     "execution_count": 5,
     "metadata": {},
     "output_type": "execute_result"
    }
   ],
   "source": [
    "#printing the dataset columns\n",
    "dataset.columns"
   ]
  },
  {
   "cell_type": "code",
   "execution_count": 6,
   "id": "d91a87f7",
   "metadata": {},
   "outputs": [],
   "source": [
    "#separating the input and output values\n",
    "feature = dataset[[\"R&D Spend\",\"Administration\",\"Marketing Spend\",\"Florida\",\"NewYork\"]]\n",
    "target = dataset[[\"Profit\"]]"
   ]
  },
  {
   "cell_type": "code",
   "execution_count": 7,
   "id": "856b8dcb",
   "metadata": {},
   "outputs": [],
   "source": [
    "#splitting the train and test set values\n",
    "from sklearn.model_selection import train_test_split\n",
    "X_train, X_test, Y_train, Y_test = train_test_split(feature,target,test_size = 0.33, random_state = 0)"
   ]
  },
  {
   "cell_type": "code",
   "execution_count": 8,
   "id": "8174840e",
   "metadata": {},
   "outputs": [],
   "source": [
    "from sklearn.preprocessing import StandardScaler\n",
    "sc_input=StandardScaler()\n",
    "X_train = sc_input.fit_transform(X_train)\n",
    "X_test = sc_input.transform(X_test)"
   ]
  },
  {
   "cell_type": "code",
   "execution_count": 9,
   "id": "37060acf",
   "metadata": {},
   "outputs": [],
   "source": [
    "from sklearn.preprocessing import StandardScaler\n",
    "sc_output=StandardScaler()\n",
    "Y_train = sc_output.fit_transform(Y_train)\n",
    "Y_test = sc_output.transform(Y_test)"
   ]
  },
  {
   "cell_type": "code",
   "execution_count": 10,
   "id": "6d2b5dec",
   "metadata": {},
   "outputs": [
    {
     "name": "stderr",
     "output_type": "stream",
     "text": [
      "/home/had/anaconda3/lib/python3.9/site-packages/sklearn/base.py:450: UserWarning: X does not have valid feature names, but StandardScaler was fitted with feature names\n",
      "  warnings.warn(\n"
     ]
    }
   ],
   "source": [
    "#converting the Raw_input to pre_processed input using python code\n",
    "preproc_input= sc_input.transform([[13000,12000,4000,0,1]])"
   ]
  },
  {
   "cell_type": "code",
   "execution_count": 11,
   "id": "b379d787",
   "metadata": {},
   "outputs": [
    {
     "data": {
      "text/plain": [
       "array([[-1.17093516, -4.30496048, -1.44694752, -0.42257713,  1.24034735]])"
      ]
     },
     "execution_count": 11,
     "metadata": {},
     "output_type": "execute_result"
    }
   ],
   "source": [
    "#Converting the user input to preprocessed input\n",
    "preproc_input"
   ]
  },
  {
   "cell_type": "code",
   "execution_count": 12,
   "id": "70294870",
   "metadata": {},
   "outputs": [],
   "source": [
    "#loading the saved model & predicting the preprocessed input\n",
    "loaded_model=pickle.load(open(\"bestmodel_svm_preinput_output.sav\",\"rb\"))\n",
    "result = loaded_model.predict(preproc_input)"
   ]
  },
  {
   "cell_type": "code",
   "execution_count": 13,
   "id": "1a8f6aff",
   "metadata": {},
   "outputs": [
    {
     "data": {
      "text/plain": [
       "array([-0.93667319])"
      ]
     },
     "execution_count": 13,
     "metadata": {},
     "output_type": "execute_result"
    }
   ],
   "source": [
    "#output in preprocessed state(human non-understandable form)\n",
    "result"
   ]
  },
  {
   "cell_type": "code",
   "execution_count": 14,
   "id": "a2882126",
   "metadata": {},
   "outputs": [],
   "source": [
    "#converting preprocessed output to Raw state(human understable form)\n",
    "preproc_output=sc_output.inverse_transform([result])"
   ]
  },
  {
   "cell_type": "code",
   "execution_count": 15,
   "id": "f082baea",
   "metadata": {},
   "outputs": [
    {
     "data": {
      "text/plain": [
       "array([[67554.354023]])"
      ]
     },
     "execution_count": 15,
     "metadata": {},
     "output_type": "execute_result"
    }
   ],
   "source": [
    "#preprocessed converted to Raw output dataset\n",
    "preproc_output"
   ]
  },
  {
   "cell_type": "code",
   "execution_count": 16,
   "id": "b32205ca",
   "metadata": {},
   "outputs": [
    {
     "name": "stdout",
     "output_type": "stream",
     "text": [
      "Enter RND value:13000\n",
      "Enter admin value:12000\n",
      "Enter the marketspend:4000\n",
      "Enter the value 0 or 1:0\n",
      "Enter the value 0 or 1:1\n"
     ]
    }
   ],
   "source": [
    "#giving Dyanmic input\n",
    "dy_rnd = float(input(\"Enter RND value:\"))\n",
    "dy_admin =float(input(\"Enter admin value:\"))\n",
    "dy_markspnd =float(input(\"Enter the marketspend:\"))\n",
    "dy_florida = int(input(\"Enter the value 0 or 1:\"))\n",
    "dy_newyork = int(input(\"Enter the value 0 or 1:\"))\n"
   ]
  },
  {
   "cell_type": "code",
   "execution_count": 17,
   "id": "268a5e13",
   "metadata": {},
   "outputs": [
    {
     "name": "stderr",
     "output_type": "stream",
     "text": [
      "/home/had/anaconda3/lib/python3.9/site-packages/sklearn/base.py:450: UserWarning: X does not have valid feature names, but StandardScaler was fitted with feature names\n",
      "  warnings.warn(\n"
     ]
    }
   ],
   "source": [
    "result = loaded_model.predict(sc_input.transform([[dy_rnd,dy_admin,dy_markspnd,dy_florida,dy_newyork]]))\n"
   ]
  },
  {
   "cell_type": "code",
   "execution_count": 18,
   "id": "ca2a6ac9",
   "metadata": {},
   "outputs": [
    {
     "data": {
      "text/plain": [
       "array([-0.93667319])"
      ]
     },
     "execution_count": 18,
     "metadata": {},
     "output_type": "execute_result"
    }
   ],
   "source": [
    "result"
   ]
  },
  {
   "cell_type": "code",
   "execution_count": 19,
   "id": "94d3a044",
   "metadata": {},
   "outputs": [],
   "source": [
    "#converting preprocessed output to raw state(human understand form)\n",
    "dyn_inp_result=sc_output.inverse_transform([result])"
   ]
  },
  {
   "cell_type": "code",
   "execution_count": 21,
   "id": "f2f5c3eb",
   "metadata": {},
   "outputs": [
    {
     "data": {
      "text/plain": [
       "array([[67554.354023]])"
      ]
     },
     "execution_count": 21,
     "metadata": {},
     "output_type": "execute_result"
    }
   ],
   "source": [
    "dyn_inp_result"
   ]
  },
  {
   "cell_type": "code",
   "execution_count": null,
   "id": "0e669c07",
   "metadata": {},
   "outputs": [],
   "source": []
  }
 ],
 "metadata": {
  "kernelspec": {
   "display_name": "Python 3 (ipykernel)",
   "language": "python",
   "name": "python3"
  },
  "language_info": {
   "codemirror_mode": {
    "name": "ipython",
    "version": 3
   },
   "file_extension": ".py",
   "mimetype": "text/x-python",
   "name": "python",
   "nbconvert_exporter": "python",
   "pygments_lexer": "ipython3",
   "version": "3.9.12"
  }
 },
 "nbformat": 4,
 "nbformat_minor": 5
}
