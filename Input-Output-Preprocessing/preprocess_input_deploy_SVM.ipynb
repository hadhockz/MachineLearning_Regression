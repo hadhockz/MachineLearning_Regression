{
 "cells": [
  {
   "cell_type": "code",
   "execution_count": 1,
   "id": "81279776",
   "metadata": {},
   "outputs": [],
   "source": [
    "#importing libraries\n",
    "import pandas as pd\n",
    "import pickle"
   ]
  },
  {
   "cell_type": "code",
   "execution_count": 2,
   "id": "f8d4ece9",
   "metadata": {},
   "outputs": [],
   "source": [
    "# Reading dataset\n",
    "dataset = pd.read_csv(\"50_Startups.csv\")"
   ]
  },
  {
   "cell_type": "code",
   "execution_count": 3,
   "id": "8cfd5e01",
   "metadata": {},
   "outputs": [],
   "source": [
    "#Removing the presence of dummies in state column & converting categorical value to numerical.\n",
    "dataset = pd.get_dummies(dataset,drop_first=True)"
   ]
  },
  {
   "cell_type": "code",
   "execution_count": 4,
   "id": "0c819126",
   "metadata": {},
   "outputs": [],
   "source": [
    "#Column renaming\n",
    "dataset.rename(columns={\"State_Florida\":\"Florida\",\"State_New York\":\"NewYork\"},inplace=True)"
   ]
  },
  {
   "cell_type": "code",
   "execution_count": 5,
   "id": "51b89d9c",
   "metadata": {},
   "outputs": [
    {
     "data": {
      "text/plain": [
       "Index(['R&D Spend', 'Administration', 'Marketing Spend', 'Profit', 'Florida',\n",
       "       'NewYork'],\n",
       "      dtype='object')"
      ]
     },
     "execution_count": 5,
     "metadata": {},
     "output_type": "execute_result"
    }
   ],
   "source": [
    "#printing the dataset columns\n",
    "dataset.columns"
   ]
  },
  {
   "cell_type": "code",
   "execution_count": 6,
   "id": "d91a87f7",
   "metadata": {},
   "outputs": [],
   "source": [
    "#separating the input and output values\n",
    "feature = dataset[[\"R&D Spend\",\"Administration\",\"Marketing Spend\",\"Florida\",\"NewYork\"]]\n",
    "target = dataset[[\"Profit\"]]"
   ]
  },
  {
   "cell_type": "code",
   "execution_count": 7,
   "id": "856b8dcb",
   "metadata": {},
   "outputs": [],
   "source": [
    "#splitting the train and test set values\n",
    "from sklearn.model_selection import train_test_split\n",
    "X_train, X_test, Y_train, Y_test = train_test_split(feature,target,test_size = 0.33, random_state = 0)"
   ]
  },
  {
   "cell_type": "code",
   "execution_count": 8,
   "id": "8174840e",
   "metadata": {},
   "outputs": [],
   "source": [
    "#Standarisation for dataset to make least difference between input values.\n",
    "#formula x-u/deviance.\n",
    "from sklearn.preprocessing import StandardScaler\n",
    "sc=StandardScaler()\n",
    "X_train = sc.fit_transform(X_train)\n",
    "X_test = sc.transform(X_test)"
   ]
  },
  {
   "cell_type": "code",
   "execution_count": 9,
   "id": "6d2b5dec",
   "metadata": {},
   "outputs": [
    {
     "name": "stderr",
     "output_type": "stream",
     "text": [
      "/home/had/anaconda3/lib/python3.9/site-packages/sklearn/base.py:450: UserWarning: X does not have valid feature names, but StandardScaler was fitted with feature names\n",
      "  warnings.warn(\n"
     ]
    }
   ],
   "source": [
    "#converting the Raw_input to pre_processed input using python code\n",
    "preproc_input= sc.transform([[13000,12000,4000,0,1]])"
   ]
  },
  {
   "cell_type": "code",
   "execution_count": 10,
   "id": "b379d787",
   "metadata": {},
   "outputs": [
    {
     "data": {
      "text/plain": [
       "array([[-1.17093516, -4.30496048, -1.44694752, -0.42257713,  1.24034735]])"
      ]
     },
     "execution_count": 10,
     "metadata": {},
     "output_type": "execute_result"
    }
   ],
   "source": [
    "#Converting the user input to preprocessed input\n",
    "preproc_input"
   ]
  },
  {
   "cell_type": "code",
   "execution_count": 11,
   "id": "70294870",
   "metadata": {},
   "outputs": [],
   "source": [
    "#loading the saved model & predicting the preprocessed input\n",
    "loaded_model=pickle.load(open(\"bestmodel_svm_preinput.sav\",\"rb\"))\n",
    "result = loaded_model.predict(preproc_input)"
   ]
  },
  {
   "cell_type": "code",
   "execution_count": 12,
   "id": "1a8f6aff",
   "metadata": {},
   "outputs": [
    {
     "data": {
      "text/plain": [
       "array([107181.20623513])"
      ]
     },
     "execution_count": 12,
     "metadata": {},
     "output_type": "execute_result"
    }
   ],
   "source": [
    "#output in Raw state(human understandable form)\n",
    "result"
   ]
  },
  {
   "cell_type": "code",
   "execution_count": 13,
   "id": "b32205ca",
   "metadata": {},
   "outputs": [
    {
     "name": "stdout",
     "output_type": "stream",
     "text": [
      "Enter RND value:13000\n",
      "Enter admin value:12000\n",
      "Enter the marketspend:4000\n",
      "Enter the value 0 or 1:0\n",
      "Enter the value 0 or 1:1\n"
     ]
    }
   ],
   "source": [
    "#giving Dyanmic input\n",
    "dy_rnd = float(input(\"Enter RND value:\"))\n",
    "dy_admin =float(input(\"Enter admin value:\"))\n",
    "dy_markspnd =float(input(\"Enter the marketspend:\"))\n",
    "dy_florida = int(input(\"Enter the value 0 or 1:\"))\n",
    "dy_newyork = int(input(\"Enter the value 0 or 1:\"))\n"
   ]
  },
  {
   "cell_type": "code",
   "execution_count": 14,
   "id": "268a5e13",
   "metadata": {},
   "outputs": [
    {
     "name": "stderr",
     "output_type": "stream",
     "text": [
      "/home/had/anaconda3/lib/python3.9/site-packages/sklearn/base.py:450: UserWarning: X does not have valid feature names, but StandardScaler was fitted with feature names\n",
      "  warnings.warn(\n"
     ]
    }
   ],
   "source": [
    "dyn_inp_result =loaded_model.predict(sc.transform([[dy_rnd,dy_admin,dy_markspnd,dy_florida,dy_newyork]]))"
   ]
  },
  {
   "cell_type": "code",
   "execution_count": 15,
   "id": "94d3a044",
   "metadata": {},
   "outputs": [
    {
     "data": {
      "text/plain": [
       "array([107181.20623513])"
      ]
     },
     "execution_count": 15,
     "metadata": {},
     "output_type": "execute_result"
    }
   ],
   "source": [
    "#output in raw state.\n",
    "dyn_inp_result"
   ]
  },
  {
   "cell_type": "code",
   "execution_count": null,
   "id": "af37349b",
   "metadata": {},
   "outputs": [],
   "source": []
  }
 ],
 "metadata": {
  "kernelspec": {
   "display_name": "Python 3 (ipykernel)",
   "language": "python",
   "name": "python3"
  },
  "language_info": {
   "codemirror_mode": {
    "name": "ipython",
    "version": 3
   },
   "file_extension": ".py",
   "mimetype": "text/x-python",
   "name": "python",
   "nbconvert_exporter": "python",
   "pygments_lexer": "ipython3",
   "version": "3.9.12"
  }
 },
 "nbformat": 4,
 "nbformat_minor": 5
}
