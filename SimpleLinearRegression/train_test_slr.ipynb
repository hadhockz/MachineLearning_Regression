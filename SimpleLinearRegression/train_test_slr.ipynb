{
 "cells": [
  {
   "cell_type": "code",
   "execution_count": 1,
   "id": "81279776",
   "metadata": {},
   "outputs": [],
   "source": [
    "# Importing the Pandas,matplotlib,numpy library\n",
    "# NumPy library contains multidimensional array data structures\n",
    "# Pandas library contians read_csv() used to read .csv files\n",
    "# matplotlib library helps to generate barcharts,scatter plots.\n",
    "# pd is the alias for pandas\n",
    "# plt is the alias for matplotlib\n",
    "# np is the alias for numpy\n",
    "import matplotlib.pyplot as plt\n",
    "# import numpy as np\n",
    "import pandas as pd"
   ]
  },
  {
   "cell_type": "code",
   "execution_count": 2,
   "id": "f8d4ece9",
   "metadata": {},
   "outputs": [],
   "source": [
    "# dataset variable stores values of csv\n",
    "dataset = pd.read_csv(\"Salary.csv\")"
   ]
  },
  {
   "cell_type": "code",
   "execution_count": 4,
   "id": "2368ded3",
   "metadata": {},
   "outputs": [
    {
     "name": "stdout",
     "output_type": "stream",
     "text": [
      "    YearsExperience    Salary\n",
      "0               1.1   39343.0\n",
      "1               1.3   46205.0\n",
      "2               1.5   37731.0\n",
      "3               2.0   43525.0\n",
      "4               2.2   39891.0\n",
      "5               2.9   56642.0\n",
      "6               3.0   60150.0\n",
      "7               3.2   54445.0\n",
      "8               3.2   64445.0\n",
      "9               3.7   57189.0\n",
      "10              3.9   63218.0\n",
      "11              4.0   55794.0\n",
      "12              4.0   56957.0\n",
      "13              4.1   57081.0\n",
      "14              4.5   61111.0\n",
      "15              4.9   67938.0\n",
      "16              5.1   66029.0\n",
      "17              5.3   83088.0\n",
      "18              5.9   81363.0\n",
      "19              6.0   93940.0\n",
      "20              6.8   91738.0\n",
      "21              7.1   98273.0\n",
      "22              7.9  101302.0\n",
      "23              8.2  113812.0\n",
      "24              8.7  109431.0\n",
      "25              9.0  105582.0\n",
      "26              9.5  116969.0\n",
      "27              9.6  112635.0\n",
      "28             10.3  122391.0\n",
      "29             10.5  121872.0\n"
     ]
    }
   ],
   "source": [
    "# printing the csv values stored in memory under variable dataset\n",
    "print(dataset)"
   ]
  },
  {
   "cell_type": "code",
   "execution_count": 5,
   "id": "a181dec1",
   "metadata": {},
   "outputs": [
    {
     "data": {
      "text/plain": [
       "Index(['YearsExperience', 'Salary'], dtype='object')"
      ]
     },
     "execution_count": 5,
     "metadata": {},
     "output_type": "execute_result"
    }
   ],
   "source": [
    "dataset.columns"
   ]
  },
  {
   "cell_type": "code",
   "execution_count": 6,
   "id": "69df0c8e",
   "metadata": {},
   "outputs": [
    {
     "name": "stdout",
     "output_type": "stream",
     "text": [
      "    YearsExperience\n",
      "0               1.1\n",
      "1               1.3\n",
      "2               1.5\n",
      "3               2.0\n",
      "4               2.2\n",
      "5               2.9\n",
      "6               3.0\n",
      "7               3.2\n",
      "8               3.2\n",
      "9               3.7\n",
      "10              3.9\n",
      "11              4.0\n",
      "12              4.0\n",
      "13              4.1\n",
      "14              4.5\n",
      "15              4.9\n",
      "16              5.1\n",
      "17              5.3\n",
      "18              5.9\n",
      "19              6.0\n",
      "20              6.8\n",
      "21              7.1\n",
      "22              7.9\n",
      "23              8.2\n",
      "24              8.7\n",
      "25              9.0\n",
      "26              9.5\n",
      "27              9.6\n",
      "28             10.3\n",
      "29             10.5\n",
      "      Salary\n",
      "0    39343.0\n",
      "1    46205.0\n",
      "2    37731.0\n",
      "3    43525.0\n",
      "4    39891.0\n",
      "5    56642.0\n",
      "6    60150.0\n",
      "7    54445.0\n",
      "8    64445.0\n",
      "9    57189.0\n",
      "10   63218.0\n",
      "11   55794.0\n",
      "12   56957.0\n",
      "13   57081.0\n",
      "14   61111.0\n",
      "15   67938.0\n",
      "16   66029.0\n",
      "17   83088.0\n",
      "18   81363.0\n",
      "19   93940.0\n",
      "20   91738.0\n",
      "21   98273.0\n",
      "22  101302.0\n",
      "23  113812.0\n",
      "24  109431.0\n",
      "25  105582.0\n",
      "26  116969.0\n",
      "27  112635.0\n",
      "28  122391.0\n",
      "29  121872.0\n"
     ]
    }
   ],
   "source": [
    "# separating Input and Output in dataset\n",
    "# feature denotes input variable,YearsExperience denotes the column, datatype as float(number comes after decimal point)\n",
    "# target denotes output variable,Salary denotes the column, datatype as float\n",
    "feature = dataset[[\"YearsExperience\"]]\n",
    "target = dataset[[\"Salary\"]]\n",
    "print(feature)\n",
    "print(target)"
   ]
  },
  {
   "cell_type": "code",
   "execution_count": 7,
   "id": "8cfd5e01",
   "metadata": {},
   "outputs": [
    {
     "data": {
      "image/png": "[encoded data removed]",
      "text/plain": [
       "<Figure size 432x288 with 1 Axes>"
      ]
     },
     "metadata": {
      "needs_background": "light"
     },
     "output_type": "display_data"
    }
   ],
   "source": [
    "#feature denotes YearsExperience in graph\n",
    "#target denotes Salary in graph\n",
    "# '.' denotes the access operator used to re-use the code at any place while coding which avoid re-typing. \n",
    "plt.scatter(feature,target)# scatter method/function in matplotlib library used to show scatter plots\n",
    "plt.xlabel(\"YearsExperience\", fontsize=20)\n",
    "plt.ylabel(\"Salary\", fontsize=20)\n",
    "plt.show()"
   ]
  },
  {
   "cell_type": "code",
   "execution_count": 8,
   "id": "856b8dcb",
   "metadata": {},
   "outputs": [],
   "source": [
    "# train_test_split() class of sklearn library.\n",
    "# sklearn.model_selection is python ML package provides functions to split our data into train and test sets. \n",
    "# test_size_split is a function which passes the values such as input, output, \n",
    "# test_size uses 30% of data for dataset and train_set uses 70% of data for dataset, random_state is a number generator starts from 0)\n",
    "from sklearn.model_selection import train_test_split\n",
    "X_train, X_test, Y_train, Y_test = train_test_split(feature,target,test_size = 0.33, random_state = 0)"
   ]
  },
  {
   "cell_type": "code",
   "execution_count": 9,
   "id": "05d9ead2",
   "metadata": {},
   "outputs": [
    {
     "name": "stdout",
     "output_type": "stream",
     "text": [
      "    YearsExperience\n",
      "2               1.5\n",
      "28             10.3\n",
      "13              4.1\n",
      "10              3.9\n",
      "26              9.5\n",
      "24              8.7\n",
      "27              9.6\n",
      "11              4.0\n",
      "17              5.3\n",
      "22              7.9       Salary\n",
      "2    37731.0\n",
      "28  122391.0\n",
      "13   57081.0\n",
      "10   63218.0\n",
      "26  116969.0\n",
      "24  109431.0\n",
      "27  112635.0\n",
      "11   55794.0\n",
      "17   83088.0\n",
      "22  101302.0\n"
     ]
    }
   ],
   "source": [
    "#Printing the Splitted values X & Y train & test sets.\n",
    "print(X_test,Y_test)"
   ]
  },
  {
   "cell_type": "code",
   "execution_count": 10,
   "id": "d41c227b",
   "metadata": {},
   "outputs": [
    {
     "data": {
      "text/plain": [
       "LinearRegression()"
      ]
     },
     "execution_count": 10,
     "metadata": {},
     "output_type": "execute_result"
    }
   ],
   "source": [
    "from sklearn.linear_model import LinearRegression #sklearn.linear_model is a python ML package along with linearRegression library which determines the straight line\n",
    "regressor = LinearRegression() # storing the value of LinearRegression class and function in regressor variable\n",
    "regressor.fit(X_train, Y_train)# calling the fit function from LR function and substituting the parameter's to train & create the model based on linear formula y=mx+c"
   ]
  },
  {
   "cell_type": "code",
   "execution_count": 11,
   "id": "e5ce37d9",
   "metadata": {},
   "outputs": [
    {
     "name": "stdout",
     "output_type": "stream",
     "text": [
      "weight of model: [[9345.94244312]]\n",
      "Intercept of model: [26816.19224403]\n"
     ]
    }
   ],
   "source": [
    "#following codes used to view weight m and bais/intercept/orgin c values assigned in the formuala y=mx+c\n",
    "weight = regressor.coef_\n",
    "print(\"weight of model:\", weight) #coef denotes parameter m that is multiplied by parameter x. A coefficient in linear regression represents changes in a Response Variable \n",
    "bais = regressor.intercept_\n",
    "print(\"Intercept of model:\", bais) #Intercept denotes parameter c in the straight line equation y = mx+c"
   ]
  },
  {
   "cell_type": "code",
   "execution_count": 12,
   "id": "d13dc495",
   "metadata": {},
   "outputs": [],
   "source": [
    "Y_pred=regressor.predict(X_test)#predict() function predicts the output of test set and stores the values to the variable Y_pred."
   ]
  },
  {
   "cell_type": "code",
   "execution_count": 13,
   "id": "be9d2132",
   "metadata": {},
   "outputs": [
    {
     "name": "stdout",
     "output_type": "stream",
     "text": [
      "[[ 40835.10590871]\n",
      " [123079.39940819]\n",
      " [ 65134.55626083]\n",
      " [ 63265.36777221]\n",
      " [115602.64545369]\n",
      " [108125.8914992 ]\n",
      " [116537.23969801]\n",
      " [ 64199.96201652]\n",
      " [ 76349.68719258]\n",
      " [100649.1375447 ]]\n"
     ]
    }
   ],
   "source": [
    "print(Y_pred)#printing the prediction for X_test input values"
   ]
  },
  {
   "cell_type": "code",
   "execution_count": 14,
   "id": "33f50b81",
   "metadata": {},
   "outputs": [],
   "source": [
    "#Evaluation Metrics R2 to conclude the best model\n",
    "#sklearn.metrics is ML package which import r2_score library \n",
    "# if score is 1 model is perfect, if 0 model is imperfect.\n",
    "from sklearn.metrics import r2_score\n",
    "r_score=r2_score(Y_test,Y_pred)"
   ]
  },
  {
   "cell_type": "code",
   "execution_count": 15,
   "id": "6458f920",
   "metadata": {},
   "outputs": [
    {
     "data": {
      "text/plain": [
       "0.9749154407708353"
      ]
     },
     "execution_count": 15,
     "metadata": {},
     "output_type": "execute_result"
    }
   ],
   "source": [
    "r_score #thus confirming the model has learned good based on the R2 score nearing to 1."
   ]
  },
  {
   "cell_type": "code",
   "execution_count": 16,
   "id": "3857cca4",
   "metadata": {},
   "outputs": [
    {
     "name": "stdout",
     "output_type": "stream",
     "text": [
      "    YearsExperience\n",
      "2               1.5\n",
      "28             10.3\n",
      "13              4.1\n",
      "10              3.9\n",
      "26              9.5\n",
      "24              8.7\n",
      "27              9.6\n",
      "11              4.0\n",
      "17              5.3\n",
      "22              7.9       Salary\n",
      "2    37731.0\n",
      "28  122391.0\n",
      "13   57081.0\n",
      "10   63218.0\n",
      "26  116969.0\n",
      "24  109431.0\n",
      "27  112635.0\n",
      "11   55794.0\n",
      "17   83088.0\n",
      "22  101302.0 [[ 40835.10590871]\n",
      " [123079.39940819]\n",
      " [ 65134.55626083]\n",
      " [ 63265.36777221]\n",
      " [115602.64545369]\n",
      " [108125.8914992 ]\n",
      " [116537.23969801]\n",
      " [ 64199.96201652]\n",
      " [ 76349.68719258]\n",
      " [100649.1375447 ]]\n"
     ]
    }
   ],
   "source": [
    "print(X_test,Y_test,Y_pred)"
   ]
  },
  {
   "cell_type": "code",
   "execution_count": 17,
   "id": "2b398af7",
   "metadata": {},
   "outputs": [],
   "source": [
    "#Saving model phase\n",
    "import pickle #pickle is library which converts python objects into binary called as serialization.\n",
    "filename = \"finalized model.sav\" #.sav is the statistical file used for statistical analysis purposes such as researching and data mining process.\n",
    "pickle.dump(regressor, open(filename, \"wb\")) #wb is write binary,when executing this line finalized model.sav file created inside the directory where .ipynb & .csv file is present"
   ]
  },
  {
   "cell_type": "code",
   "execution_count": 18,
   "id": "33caa5a2",
   "metadata": {},
   "outputs": [
    {
     "name": "stderr",
     "output_type": "stream",
     "text": [
      "/home/had/anaconda3/lib/python3.9/site-packages/sklearn/base.py:450: UserWarning: X does not have valid feature names, but LinearRegression was fitted with feature names\n",
      "  warnings.warn(\n"
     ]
    }
   ],
   "source": [
    "loaded_model = pickle.load(open(\"finalized model.sav\", \"rb\")) #rb is read binary\n",
    "result = loaded_model.predict([[7.9]]) #predicting the salary based on input given in years 15."
   ]
  },
  {
   "cell_type": "code",
   "execution_count": 20,
   "id": "0a70ff64",
   "metadata": {},
   "outputs": [
    {
     "name": "stdout",
     "output_type": "stream",
     "text": [
      "[[100649.1375447]]\n"
     ]
    }
   ],
   "source": [
    "print(result)"
   ]
  },
  {
   "cell_type": "code",
   "execution_count": 21,
   "id": "117e20ba",
   "metadata": {},
   "outputs": [
    {
     "name": "stdout",
     "output_type": "stream",
     "text": [
      "Enter the prediction input value:5\n"
     ]
    }
   ],
   "source": [
    "#giving manual input \n",
    "prediction_input=float(input(\"Enter the prediction input value:\"))"
   ]
  },
  {
   "cell_type": "code",
   "execution_count": 24,
   "id": "ca0c92e3",
   "metadata": {},
   "outputs": [
    {
     "name": "stdout",
     "output_type": "stream",
     "text": [
      "[[73545.90445964]]\n"
     ]
    },
    {
     "name": "stderr",
     "output_type": "stream",
     "text": [
      "/home/had/anaconda3/lib/python3.9/site-packages/sklearn/base.py:450: UserWarning: X does not have valid feature names, but LinearRegression was fitted with feature names\n",
      "  warnings.warn(\n"
     ]
    }
   ],
   "source": [
    "Future_Prediction = regressor.predict([[prediction_input]])\n",
    "print(Future_Prediction) #print(\"Future_Prediction = {}\".format(Future_Prediction))"
   ]
  },
  {
   "cell_type": "code",
   "execution_count": null,
   "id": "8d058c63",
   "metadata": {},
   "outputs": [],
   "source": []
  }
 ],
 "metadata": {
  "kernelspec": {
   "display_name": "Python 3 (ipykernel)",
   "language": "python",
   "name": "python3"
  },
  "language_info": {
   "codemirror_mode": {
    "name": "ipython",
    "version": 3
   },
   "file_extension": ".py",
   "mimetype": "text/x-python",
   "name": "python",
   "nbconvert_exporter": "python",
   "pygments_lexer": "ipython3",
   "version": "3.9.12"
  }
 },
 "nbformat": 4,
 "nbformat_minor": 5
}
