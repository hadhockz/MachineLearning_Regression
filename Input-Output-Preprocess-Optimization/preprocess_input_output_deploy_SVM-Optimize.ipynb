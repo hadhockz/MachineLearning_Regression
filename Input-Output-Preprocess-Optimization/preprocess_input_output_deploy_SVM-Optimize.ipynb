{
 "cells": [
  {
   "cell_type": "code",
   "execution_count": 1,
   "id": "81279776",
   "metadata": {},
   "outputs": [],
   "source": [
    "#importing libraries\n",
    "import pickle"
   ]
  },
  {
   "cell_type": "code",
   "execution_count": 2,
   "id": "3940489f",
   "metadata": {},
   "outputs": [],
   "source": [
    "from joblib import load\n",
    "loaded_scaler1 = load('standarad_scaler_input.joblib')\n",
    "loaded_scaler2 = load(\"standarad_scaler_output.joblib\")"
   ]
  },
  {
   "cell_type": "code",
   "execution_count": 3,
   "id": "6d2b5dec",
   "metadata": {},
   "outputs": [
    {
     "name": "stderr",
     "output_type": "stream",
     "text": [
      "/home/had/anaconda3/lib/python3.9/site-packages/sklearn/base.py:450: UserWarning: X does not have valid feature names, but StandardScaler was fitted with feature names\n",
      "  warnings.warn(\n"
     ]
    }
   ],
   "source": [
    "#converting the Raw_input to pre_processed input using python code\n",
    "preproc_input= loaded_scaler1.transform([[13000,12000,4000,0,1]])"
   ]
  },
  {
   "cell_type": "code",
   "execution_count": 4,
   "id": "b379d787",
   "metadata": {},
   "outputs": [
    {
     "data": {
      "text/plain": [
       "array([[-1.17093516, -4.30496048, -1.44694752, -0.42257713,  1.24034735]])"
      ]
     },
     "execution_count": 4,
     "metadata": {},
     "output_type": "execute_result"
    }
   ],
   "source": [
    "#Converting the user input to preprocessed input\n",
    "preproc_input"
   ]
  },
  {
   "cell_type": "code",
   "execution_count": 5,
   "id": "70294870",
   "metadata": {},
   "outputs": [],
   "source": [
    "#loading the saved model & predicting the preprocessed input\n",
    "loaded_model=pickle.load(open(\"bestmodel_svm_preinput_output.sav\",\"rb\"))\n",
    "result = loaded_model.predict(preproc_input)"
   ]
  },
  {
   "cell_type": "code",
   "execution_count": 6,
   "id": "1a8f6aff",
   "metadata": {},
   "outputs": [
    {
     "data": {
      "text/plain": [
       "array([-0.93667319])"
      ]
     },
     "execution_count": 6,
     "metadata": {},
     "output_type": "execute_result"
    }
   ],
   "source": [
    "#output in preprocessed state(human non-understandable form)\n",
    "result"
   ]
  },
  {
   "cell_type": "code",
   "execution_count": 7,
   "id": "a2882126",
   "metadata": {},
   "outputs": [],
   "source": [
    "#converting preprocessed output to Raw state(human understable form)\n",
    "preproc_output=loaded_scaler2.inverse_transform([result])"
   ]
  },
  {
   "cell_type": "code",
   "execution_count": 8,
   "id": "f082baea",
   "metadata": {},
   "outputs": [
    {
     "data": {
      "text/plain": [
       "array([[67554.354023]])"
      ]
     },
     "execution_count": 8,
     "metadata": {},
     "output_type": "execute_result"
    }
   ],
   "source": [
    "#preprocessed converted to Raw output dataset\n",
    "preproc_output"
   ]
  },
  {
   "cell_type": "code",
   "execution_count": 9,
   "id": "b32205ca",
   "metadata": {},
   "outputs": [
    {
     "name": "stdout",
     "output_type": "stream",
     "text": [
      "Enter RND value:13000\n",
      "Enter admin value:12000\n",
      "Enter the marketspend:4000\n",
      "Enter the value 0 or 1:0\n",
      "Enter the value 0 or 1:1\n"
     ]
    }
   ],
   "source": [
    "#giving Dyanmic input\n",
    "dy_rnd = float(input(\"Enter RND value:\"))\n",
    "dy_admin =float(input(\"Enter admin value:\"))\n",
    "dy_markspnd =float(input(\"Enter the marketspend:\"))\n",
    "dy_florida = int(input(\"Enter the value 0 or 1:\"))\n",
    "dy_newyork = int(input(\"Enter the value 0 or 1:\"))\n"
   ]
  },
  {
   "cell_type": "code",
   "execution_count": 11,
   "id": "268a5e13",
   "metadata": {},
   "outputs": [
    {
     "name": "stderr",
     "output_type": "stream",
     "text": [
      "/home/had/anaconda3/lib/python3.9/site-packages/sklearn/base.py:450: UserWarning: X does not have valid feature names, but StandardScaler was fitted with feature names\n",
      "  warnings.warn(\n"
     ]
    }
   ],
   "source": [
    "result = loaded_model.predict(loaded_scaler1.transform([[dy_rnd,dy_admin,dy_markspnd,dy_florida,dy_newyork]]))\n"
   ]
  },
  {
   "cell_type": "code",
   "execution_count": 12,
   "id": "ca2a6ac9",
   "metadata": {},
   "outputs": [
    {
     "data": {
      "text/plain": [
       "array([-0.93667319])"
      ]
     },
     "execution_count": 12,
     "metadata": {},
     "output_type": "execute_result"
    }
   ],
   "source": [
    "result"
   ]
  },
  {
   "cell_type": "code",
   "execution_count": 14,
   "id": "94d3a044",
   "metadata": {},
   "outputs": [],
   "source": [
    "#converting preprocessed output to raw state(human understand form)\n",
    "dyn_inp_result=loaded_scaler2.inverse_transform([result])"
   ]
  },
  {
   "cell_type": "code",
   "execution_count": 15,
   "id": "f2f5c3eb",
   "metadata": {},
   "outputs": [
    {
     "data": {
      "text/plain": [
       "array([[67554.354023]])"
      ]
     },
     "execution_count": 15,
     "metadata": {},
     "output_type": "execute_result"
    }
   ],
   "source": [
    "dyn_inp_result"
   ]
  },
  {
   "cell_type": "code",
   "execution_count": null,
   "id": "0e669c07",
   "metadata": {},
   "outputs": [],
   "source": []
  }
 ],
 "metadata": {
  "kernelspec": {
   "display_name": "Python 3 (ipykernel)",
   "language": "python",
   "name": "python3"
  },
  "language_info": {
   "codemirror_mode": {
    "name": "ipython",
    "version": 3
   },
   "file_extension": ".py",
   "mimetype": "text/x-python",
   "name": "python",
   "nbconvert_exporter": "python",
   "pygments_lexer": "ipython3",
   "version": "3.9.12"
  }
 },
 "nbformat": 4,
 "nbformat_minor": 5
}
