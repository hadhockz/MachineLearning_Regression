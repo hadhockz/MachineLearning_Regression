{
 "cells": [
  {
   "cell_type": "code",
   "execution_count": 7,
   "id": "81279776",
   "metadata": {},
   "outputs": [],
   "source": [
    "#importing libraries\n",
    "import pickle"
   ]
  },
  {
   "cell_type": "code",
   "execution_count": 8,
   "id": "148f386d",
   "metadata": {},
   "outputs": [],
   "source": [
    "#loading the saved standaradscaler function\n",
    "from joblib import load\n",
    "loaded_scaler = load('standarad_scaler.joblib')"
   ]
  },
  {
   "cell_type": "code",
   "execution_count": 9,
   "id": "080d8262",
   "metadata": {},
   "outputs": [
    {
     "data": {
      "text/plain": [
       "StandardScaler()"
      ]
     },
     "execution_count": 9,
     "metadata": {},
     "output_type": "execute_result"
    }
   ],
   "source": [
    "loaded_scaler"
   ]
  },
  {
   "cell_type": "code",
   "execution_count": 10,
   "id": "da52b475",
   "metadata": {},
   "outputs": [],
   "source": [
    "#loading transformed standaradscaler from test set\n",
    "transformed_data = loaded_scaler.transform(X_test_loaded)"
   ]
  },
  {
   "cell_type": "code",
   "execution_count": 11,
   "id": "978f0c19",
   "metadata": {},
   "outputs": [
    {
     "data": {
      "text/plain": [
       "array([[-0.07603728,  2.36704999, -0.58361684,  2.36643191, -0.80622577],\n",
       "       [ 0.63847282, -1.18525561,  0.41167846, -0.42257713, -0.80622577],\n",
       "       [ 0.66408753, -0.4500642 ,  0.25599967,  2.36643191, -0.80622577],\n",
       "       [-0.86356929, -1.46206777, -0.2332684 ,  2.36643191, -0.80622577],\n",
       "       [ 1.7275513 , -0.81949011,  1.60810794,  2.36643191, -0.80622577],\n",
       "       [ 0.04895046,  0.22518663,  1.19401482, -0.42257713,  1.24034735],\n",
       "       [-1.02172808, -2.19566942, -0.07599535, -0.42257713,  1.24034735],\n",
       "       [-0.17747785,  1.19629418, -0.8099845 , -0.42257713,  1.24034735],\n",
       "       [ 0.08789427,  0.02649513,  0.81687706,  2.36643191, -0.80622577],\n",
       "       [ 1.49363229, -1.20084971,  1.29222059,  2.36643191, -0.80622577],\n",
       "       [-0.29392851, -0.74473584,  0.14613493,  2.36643191, -0.80622577],\n",
       "       [-0.48957899, -1.44890443,  0.07717955, -0.42257713,  1.24034735],\n",
       "       [ 0.11543228,  0.86137752, -0.46334712,  2.36643191, -0.80622577],\n",
       "       [-0.48107494,  1.39147463,  0.1171137 , -0.42257713, -0.80622577],\n",
       "       [ 0.4543206 , -0.31002536,  0.75334816,  2.36643191, -0.80622577],\n",
       "       [ 1.24990923,  0.91588416,  0.97235784,  2.36643191, -0.80622577],\n",
       "       [ 1.03620098,  1.34664803,  0.46286929,  2.36643191, -0.80622577]])"
      ]
     },
     "execution_count": 11,
     "metadata": {},
     "output_type": "execute_result"
    }
   ],
   "source": [
    "#printing the convertion of raw input to \n",
    "#standaradscaler form(preprocessed state)\n",
    "transformed_data"
   ]
  },
  {
   "cell_type": "code",
   "execution_count": 12,
   "id": "6d2b5dec",
   "metadata": {
    "scrolled": true
   },
   "outputs": [
    {
     "name": "stderr",
     "output_type": "stream",
     "text": [
      "/home/had/anaconda3/lib/python3.9/site-packages/sklearn/base.py:450: UserWarning: X does not have valid feature names, but StandardScaler was fitted with feature names\n",
      "  warnings.warn(\n"
     ]
    }
   ],
   "source": [
    "#converting the Raw_input to pre_processed input using python code\n",
    "preproc_input= loaded_scaler.transform([[13000,12000,4000,0,1]])"
   ]
  },
  {
   "cell_type": "code",
   "execution_count": 13,
   "id": "b379d787",
   "metadata": {},
   "outputs": [
    {
     "data": {
      "text/plain": [
       "array([[-1.17093516, -4.30496048, -1.44694752, -0.42257713,  1.24034735]])"
      ]
     },
     "execution_count": 13,
     "metadata": {},
     "output_type": "execute_result"
    }
   ],
   "source": [
    "#Converting the user input to preprocessed input\n",
    "preproc_input"
   ]
  },
  {
   "cell_type": "code",
   "execution_count": 14,
   "id": "70294870",
   "metadata": {},
   "outputs": [],
   "source": [
    "#loading the saved model & predicting the preprocessed input\n",
    "loaded_model=pickle.load(open(\"bestmodel_svm_preinput.sav\",\"rb\"))\n",
    "result = loaded_model.predict(preproc_input)"
   ]
  },
  {
   "cell_type": "code",
   "execution_count": 15,
   "id": "1a8f6aff",
   "metadata": {},
   "outputs": [
    {
     "data": {
      "text/plain": [
       "array([107181.20623513])"
      ]
     },
     "execution_count": 15,
     "metadata": {},
     "output_type": "execute_result"
    }
   ],
   "source": [
    "#output in Raw state(human understandable form)\n",
    "result"
   ]
  },
  {
   "cell_type": "code",
   "execution_count": 16,
   "id": "b32205ca",
   "metadata": {},
   "outputs": [
    {
     "name": "stdout",
     "output_type": "stream",
     "text": [
      "Enter RND value:13000\n",
      "Enter admin value:12000\n",
      "Enter the marketspend:4000\n",
      "Enter the value 0 or 1:0\n",
      "Enter the value 0 or 1:1\n"
     ]
    }
   ],
   "source": [
    "#giving Dyanmic input\n",
    "dy_rnd = float(input(\"Enter RND value:\"))\n",
    "dy_admin =float(input(\"Enter admin value:\"))\n",
    "dy_markspnd =float(input(\"Enter the marketspend:\"))\n",
    "dy_florida = int(input(\"Enter the value 0 or 1:\"))\n",
    "dy_newyork = int(input(\"Enter the value 0 or 1:\"))\n"
   ]
  },
  {
   "cell_type": "code",
   "execution_count": 17,
   "id": "268a5e13",
   "metadata": {},
   "outputs": [
    {
     "name": "stderr",
     "output_type": "stream",
     "text": [
      "/home/had/anaconda3/lib/python3.9/site-packages/sklearn/base.py:450: UserWarning: X does not have valid feature names, but StandardScaler was fitted with feature names\n",
      "  warnings.warn(\n"
     ]
    }
   ],
   "source": [
    "dyn_inp_result =loaded_model.predict(loaded_scaler.transform([[dy_rnd,dy_admin,dy_markspnd,dy_florida,dy_newyork]]))"
   ]
  },
  {
   "cell_type": "code",
   "execution_count": 18,
   "id": "94d3a044",
   "metadata": {},
   "outputs": [
    {
     "data": {
      "text/plain": [
       "array([107181.20623513])"
      ]
     },
     "execution_count": 18,
     "metadata": {},
     "output_type": "execute_result"
    }
   ],
   "source": [
    "#output in raw state.\n",
    "dyn_inp_result"
   ]
  },
  {
   "cell_type": "code",
   "execution_count": null,
   "id": "af37349b",
   "metadata": {},
   "outputs": [],
   "source": []
  }
 ],
 "metadata": {
  "kernelspec": {
   "display_name": "Python 3 (ipykernel)",
   "language": "python",
   "name": "python3"
  },
  "language_info": {
   "codemirror_mode": {
    "name": "ipython",
    "version": 3
   },
   "file_extension": ".py",
   "mimetype": "text/x-python",
   "name": "python",
   "nbconvert_exporter": "python",
   "pygments_lexer": "ipython3",
   "version": "3.9.12"
  }
 },
 "nbformat": 4,
 "nbformat_minor": 5
}
